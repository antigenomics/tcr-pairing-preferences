{
 "cells": [
  {
   "cell_type": "code",
   "execution_count": 1,
   "metadata": {},
   "outputs": [],
   "source": [
    "%matplotlib inline\n",
    "import numpy as np\n",
    "import pandas as pd\n",
    "import seaborn as sns"
   ]
  },
  {
   "cell_type": "code",
   "execution_count": 2,
   "metadata": {},
   "outputs": [
    {
     "name": "stdout",
     "output_type": "stream",
     "text": [
      "(26826, 34)\n"
     ]
    },
    {
     "name": "stderr",
     "output_type": "stream",
     "text": [
      "/Users/vlad/anaconda3/lib/python3.6/site-packages/IPython/core/interactiveshell.py:2698: DtypeWarning: Columns (20) have mixed types. Specify dtype option on import or set low_memory=False.\n",
      "  interactivity=interactivity, compiler=compiler, result=result)\n"
     ]
    },
    {
     "data": {
      "text/html": [
       "<div>\n",
       "<style>\n",
       "    .dataframe thead tr:only-child th {\n",
       "        text-align: right;\n",
       "    }\n",
       "\n",
       "    .dataframe thead th {\n",
       "        text-align: left;\n",
       "    }\n",
       "\n",
       "    .dataframe tbody tr th {\n",
       "        vertical-align: top;\n",
       "    }\n",
       "</style>\n",
       "<table border=\"1\" class=\"dataframe\">\n",
       "  <thead>\n",
       "    <tr style=\"text-align: right;\">\n",
       "      <th></th>\n",
       "      <th>cdr3.alpha</th>\n",
       "      <th>v.alpha</th>\n",
       "      <th>j.alpha</th>\n",
       "      <th>cdr3.beta</th>\n",
       "      <th>v.beta</th>\n",
       "      <th>d.beta</th>\n",
       "      <th>j.beta</th>\n",
       "      <th>species</th>\n",
       "      <th>mhc.a</th>\n",
       "      <th>mhc.b</th>\n",
       "      <th>...</th>\n",
       "      <th>meta.replica.id</th>\n",
       "      <th>meta.clone.id</th>\n",
       "      <th>meta.epitope.id</th>\n",
       "      <th>meta.tissue</th>\n",
       "      <th>meta.donor.MHC</th>\n",
       "      <th>meta.donor.MHC.method</th>\n",
       "      <th>meta.structure.id</th>\n",
       "      <th>cdr3fix.alpha</th>\n",
       "      <th>cdr3fix.beta</th>\n",
       "      <th>vdjdb.score</th>\n",
       "    </tr>\n",
       "  </thead>\n",
       "  <tbody>\n",
       "    <tr>\n",
       "      <th>0</th>\n",
       "      <td>NaN</td>\n",
       "      <td>NaN</td>\n",
       "      <td>NaN</td>\n",
       "      <td>CASSFGVSYEQYF</td>\n",
       "      <td>TRBV13-1*01</td>\n",
       "      <td>NaN</td>\n",
       "      <td>TRBJ2-1*01</td>\n",
       "      <td>MusMusculus</td>\n",
       "      <td>H-2Kb</td>\n",
       "      <td>B2M</td>\n",
       "      <td>...</td>\n",
       "      <td>NaN</td>\n",
       "      <td>NaN</td>\n",
       "      <td>NP52-59</td>\n",
       "      <td>spleen</td>\n",
       "      <td>NaN</td>\n",
       "      <td>NaN</td>\n",
       "      <td>NaN</td>\n",
       "      <td>NaN</td>\n",
       "      <td>{\"cdr3\": \"CASSFGVSYEQYF\", \"cdr3_old\": \"CASSFGV...</td>\n",
       "      <td>3</td>\n",
       "    </tr>\n",
       "    <tr>\n",
       "      <th>1</th>\n",
       "      <td>NaN</td>\n",
       "      <td>NaN</td>\n",
       "      <td>NaN</td>\n",
       "      <td>CASSFHISYEQYF</td>\n",
       "      <td>TRBV13-1*01</td>\n",
       "      <td>NaN</td>\n",
       "      <td>TRBJ2-1*01</td>\n",
       "      <td>MusMusculus</td>\n",
       "      <td>H-2Kb</td>\n",
       "      <td>B2M</td>\n",
       "      <td>...</td>\n",
       "      <td>NaN</td>\n",
       "      <td>NaN</td>\n",
       "      <td>NP52-59</td>\n",
       "      <td>spleen</td>\n",
       "      <td>NaN</td>\n",
       "      <td>NaN</td>\n",
       "      <td>NaN</td>\n",
       "      <td>NaN</td>\n",
       "      <td>{\"cdr3\": \"CASSFHISYEQYF\", \"cdr3_old\": \"CASSFHI...</td>\n",
       "      <td>3</td>\n",
       "    </tr>\n",
       "    <tr>\n",
       "      <th>2</th>\n",
       "      <td>NaN</td>\n",
       "      <td>NaN</td>\n",
       "      <td>NaN</td>\n",
       "      <td>CASSFGVNSDYTF</td>\n",
       "      <td>TRBV13-1*01</td>\n",
       "      <td>NaN</td>\n",
       "      <td>TRBJ1-2*01</td>\n",
       "      <td>MusMusculus</td>\n",
       "      <td>H-2Kb</td>\n",
       "      <td>B2M</td>\n",
       "      <td>...</td>\n",
       "      <td>NaN</td>\n",
       "      <td>NaN</td>\n",
       "      <td>NP52-59</td>\n",
       "      <td>spleen</td>\n",
       "      <td>NaN</td>\n",
       "      <td>NaN</td>\n",
       "      <td>NaN</td>\n",
       "      <td>NaN</td>\n",
       "      <td>{\"cdr3\": \"CASSFGVNSDYTF\", \"cdr3_old\": \"CASSFGV...</td>\n",
       "      <td>3</td>\n",
       "    </tr>\n",
       "    <tr>\n",
       "      <th>3</th>\n",
       "      <td>NaN</td>\n",
       "      <td>NaN</td>\n",
       "      <td>NaN</td>\n",
       "      <td>CASSLGVDAEQFF</td>\n",
       "      <td>TRBV13-1*01</td>\n",
       "      <td>NaN</td>\n",
       "      <td>TRBJ2-1*01</td>\n",
       "      <td>MusMusculus</td>\n",
       "      <td>H-2Kb</td>\n",
       "      <td>B2M</td>\n",
       "      <td>...</td>\n",
       "      <td>NaN</td>\n",
       "      <td>NaN</td>\n",
       "      <td>NP52-59</td>\n",
       "      <td>spleen</td>\n",
       "      <td>NaN</td>\n",
       "      <td>NaN</td>\n",
       "      <td>NaN</td>\n",
       "      <td>NaN</td>\n",
       "      <td>{\"cdr3\": \"CASSLGVDAEQFF\", \"cdr3_old\": \"CASSLGV...</td>\n",
       "      <td>2</td>\n",
       "    </tr>\n",
       "    <tr>\n",
       "      <th>4</th>\n",
       "      <td>NaN</td>\n",
       "      <td>NaN</td>\n",
       "      <td>NaN</td>\n",
       "      <td>CASSLGVGDTQYF</td>\n",
       "      <td>TRBV13-1*01</td>\n",
       "      <td>NaN</td>\n",
       "      <td>TRBJ2-5*01</td>\n",
       "      <td>MusMusculus</td>\n",
       "      <td>H-2Kb</td>\n",
       "      <td>B2M</td>\n",
       "      <td>...</td>\n",
       "      <td>NaN</td>\n",
       "      <td>NaN</td>\n",
       "      <td>NP52-59</td>\n",
       "      <td>spleen</td>\n",
       "      <td>NaN</td>\n",
       "      <td>NaN</td>\n",
       "      <td>NaN</td>\n",
       "      <td>NaN</td>\n",
       "      <td>{\"cdr3\": \"CASSLGVGDTQYF\", \"cdr3_old\": \"CASSLGV...</td>\n",
       "      <td>2</td>\n",
       "    </tr>\n",
       "  </tbody>\n",
       "</table>\n",
       "<p>5 rows × 34 columns</p>\n",
       "</div>"
      ],
      "text/plain": [
       "  cdr3.alpha v.alpha j.alpha      cdr3.beta       v.beta d.beta      j.beta  \\\n",
       "0        NaN     NaN     NaN  CASSFGVSYEQYF  TRBV13-1*01    NaN  TRBJ2-1*01   \n",
       "1        NaN     NaN     NaN  CASSFHISYEQYF  TRBV13-1*01    NaN  TRBJ2-1*01   \n",
       "2        NaN     NaN     NaN  CASSFGVNSDYTF  TRBV13-1*01    NaN  TRBJ1-2*01   \n",
       "3        NaN     NaN     NaN  CASSLGVDAEQFF  TRBV13-1*01    NaN  TRBJ2-1*01   \n",
       "4        NaN     NaN     NaN  CASSLGVGDTQYF  TRBV13-1*01    NaN  TRBJ2-5*01   \n",
       "\n",
       "       species  mhc.a mhc.b     ...     meta.replica.id meta.clone.id  \\\n",
       "0  MusMusculus  H-2Kb   B2M     ...                 NaN           NaN   \n",
       "1  MusMusculus  H-2Kb   B2M     ...                 NaN           NaN   \n",
       "2  MusMusculus  H-2Kb   B2M     ...                 NaN           NaN   \n",
       "3  MusMusculus  H-2Kb   B2M     ...                 NaN           NaN   \n",
       "4  MusMusculus  H-2Kb   B2M     ...                 NaN           NaN   \n",
       "\n",
       "  meta.epitope.id meta.tissue meta.donor.MHC meta.donor.MHC.method  \\\n",
       "0         NP52-59      spleen            NaN                   NaN   \n",
       "1         NP52-59      spleen            NaN                   NaN   \n",
       "2         NP52-59      spleen            NaN                   NaN   \n",
       "3         NP52-59      spleen            NaN                   NaN   \n",
       "4         NP52-59      spleen            NaN                   NaN   \n",
       "\n",
       "  meta.structure.id cdr3fix.alpha  \\\n",
       "0               NaN           NaN   \n",
       "1               NaN           NaN   \n",
       "2               NaN           NaN   \n",
       "3               NaN           NaN   \n",
       "4               NaN           NaN   \n",
       "\n",
       "                                        cdr3fix.beta vdjdb.score  \n",
       "0  {\"cdr3\": \"CASSFGVSYEQYF\", \"cdr3_old\": \"CASSFGV...           3  \n",
       "1  {\"cdr3\": \"CASSFHISYEQYF\", \"cdr3_old\": \"CASSFHI...           3  \n",
       "2  {\"cdr3\": \"CASSFGVNSDYTF\", \"cdr3_old\": \"CASSFGV...           3  \n",
       "3  {\"cdr3\": \"CASSLGVDAEQFF\", \"cdr3_old\": \"CASSLGV...           2  \n",
       "4  {\"cdr3\": \"CASSLGVGDTQYF\", \"cdr3_old\": \"CASSLGV...           2  \n",
       "\n",
       "[5 rows x 34 columns]"
      ]
     },
     "execution_count": 2,
     "metadata": {},
     "output_type": "execute_result"
    }
   ],
   "source": [
    "raw_data = pd.read_table('vdjdb_full.txt')\n",
    "print(raw_data.shape)\n",
    "n_samples = raw_data.shape[0]\n",
    "raw_data.head()"
   ]
  },
  {
   "cell_type": "code",
   "execution_count": 3,
   "metadata": {
    "collapsed": true
   },
   "outputs": [],
   "source": [
    "x = pd.notnull(raw_data.iloc[:, 0])\n",
    "y = pd.notnull(raw_data.iloc[:, 3])\n",
    "x1= pd.notnull(raw_data.iloc[:, 1])\n",
    "y1= pd.notnull(raw_data.iloc[:, 4])\n",
    "valid = [x[i] and y[i] and x1[i] and y[i] for i in range(n_samples)]"
   ]
  },
  {
   "cell_type": "code",
   "execution_count": 4,
   "metadata": {},
   "outputs": [
    {
     "data": {
      "text/html": [
       "<div>\n",
       "<style>\n",
       "    .dataframe thead tr:only-child th {\n",
       "        text-align: right;\n",
       "    }\n",
       "\n",
       "    .dataframe thead th {\n",
       "        text-align: left;\n",
       "    }\n",
       "\n",
       "    .dataframe tbody tr th {\n",
       "        vertical-align: top;\n",
       "    }\n",
       "</style>\n",
       "<table border=\"1\" class=\"dataframe\">\n",
       "  <thead>\n",
       "    <tr style=\"text-align: right;\">\n",
       "      <th></th>\n",
       "      <th>cdr3.alpha</th>\n",
       "      <th>v.alpha</th>\n",
       "      <th>cdr3.beta</th>\n",
       "      <th>v.beta</th>\n",
       "    </tr>\n",
       "  </thead>\n",
       "  <tbody>\n",
       "    <tr>\n",
       "      <th>142</th>\n",
       "      <td>CAGNNARPMF</td>\n",
       "      <td>TRAV27*01</td>\n",
       "      <td>CASSQSPGGVAFF</td>\n",
       "      <td>TRBV14*01</td>\n",
       "    </tr>\n",
       "    <tr>\n",
       "      <th>143</th>\n",
       "      <td>CAGNNARLMF</td>\n",
       "      <td>TRAV27*01</td>\n",
       "      <td>CASSQSPGGVAFF</td>\n",
       "      <td>TRBV14*01</td>\n",
       "    </tr>\n",
       "    <tr>\n",
       "      <th>144</th>\n",
       "      <td>CAGNNARLVF</td>\n",
       "      <td>TRAV27*01</td>\n",
       "      <td>CASSQSPGGTQYF</td>\n",
       "      <td>TRBV14*01</td>\n",
       "    </tr>\n",
       "    <tr>\n",
       "      <th>145</th>\n",
       "      <td>CAEGFASSDGQKLLF</td>\n",
       "      <td>TRAV5*01</td>\n",
       "      <td>CASSQSPGGTQYF</td>\n",
       "      <td>TRBV14*01</td>\n",
       "    </tr>\n",
       "    <tr>\n",
       "      <th>146</th>\n",
       "      <td>CAGNNARLMF</td>\n",
       "      <td>TRAV27*01</td>\n",
       "      <td>CSARDRHREWLHF</td>\n",
       "      <td>TRBV20-1*01</td>\n",
       "    </tr>\n",
       "  </tbody>\n",
       "</table>\n",
       "</div>"
      ],
      "text/plain": [
       "          cdr3.alpha    v.alpha      cdr3.beta       v.beta\n",
       "142       CAGNNARPMF  TRAV27*01  CASSQSPGGVAFF    TRBV14*01\n",
       "143       CAGNNARLMF  TRAV27*01  CASSQSPGGVAFF    TRBV14*01\n",
       "144       CAGNNARLVF  TRAV27*01  CASSQSPGGTQYF    TRBV14*01\n",
       "145  CAEGFASSDGQKLLF   TRAV5*01  CASSQSPGGTQYF    TRBV14*01\n",
       "146       CAGNNARLMF  TRAV27*01  CSARDRHREWLHF  TRBV20-1*01"
      ]
     },
     "execution_count": 4,
     "metadata": {},
     "output_type": "execute_result"
    }
   ],
   "source": [
    "data_pd = raw_data.iloc[valid, [0, 1, 3, 4]].drop_duplicates()\n",
    "data_pd.head()"
   ]
  },
  {
   "cell_type": "code",
   "execution_count": 5,
   "metadata": {
    "collapsed": true
   },
   "outputs": [],
   "source": [
    "data = data_pd.as_matrix()\n",
    "n_samples = data.shape[0]"
   ]
  },
  {
   "cell_type": "code",
   "execution_count": 6,
   "metadata": {},
   "outputs": [
    {
     "data": {
      "text/plain": [
       "3349"
      ]
     },
     "execution_count": 6,
     "metadata": {},
     "output_type": "execute_result"
    }
   ],
   "source": [
    "n_samples"
   ]
  },
  {
   "cell_type": "markdown",
   "metadata": {},
   "source": [
    "## V segment clusters"
   ]
  },
  {
   "cell_type": "code",
   "execution_count": 7,
   "metadata": {},
   "outputs": [
    {
     "name": "stdout",
     "output_type": "stream",
     "text": [
      "137 67\n"
     ]
    }
   ],
   "source": [
    "A_set = set()\n",
    "B_set = set()\n",
    "for i in range(n_samples):\n",
    "    for segment in data[i, 1].split(','):\n",
    "        A_set.add(segment)\n",
    "    for segment in data[i, 3].split(','):\n",
    "        B_set.add(segment)\n",
    "n_A, n_B = len(A_set), len(B_set)\n",
    "print(n_A, n_B)"
   ]
  },
  {
   "cell_type": "code",
   "execution_count": 8,
   "metadata": {
    "collapsed": true
   },
   "outputs": [],
   "source": [
    "A_list = list(A_set)\n",
    "B_list = list(B_set)\n",
    "anti_list_A = {i:0 for i in A_list}\n",
    "for i in range(n_A):\n",
    "    anti_list_A[A_list[i]] = i\n",
    "anti_list_B = {i:0 for i in B_list}\n",
    "for i in range(n_B):\n",
    "    anti_list_B[B_list[i]] = i"
   ]
  },
  {
   "cell_type": "code",
   "execution_count": 9,
   "metadata": {
    "collapsed": true
   },
   "outputs": [],
   "source": [
    "meet_matrix = np.zeros((n_A, n_B))\n",
    "for i in range(n_samples):\n",
    "    for A_segment in data[i, 1].split(','):\n",
    "        for B_segment in data[i, 3].split(','):\n",
    "            meet_matrix[anti_list_A[A_segment], anti_list_B[B_segment]] += 1"
   ]
  },
  {
   "cell_type": "code",
   "execution_count": 10,
   "metadata": {},
   "outputs": [
    {
     "data": {
      "text/plain": [
       "<matplotlib.axes._subplots.AxesSubplot at 0x1a0a417358>"
      ]
     },
     "execution_count": 10,
     "metadata": {},
     "output_type": "execute_result"
    },
    {
     "data": {
      "image/png": "[encoded data removed]",
      "text/plain": [
       "<matplotlib.figure.Figure at 0x1a0a3fd898>"
      ]
     },
     "metadata": {},
     "output_type": "display_data"
    }
   ],
   "source": [
    "sns.heatmap(meet_matrix)"
   ]
  },
  {
   "cell_type": "code",
   "execution_count": 11,
   "metadata": {
    "collapsed": true
   },
   "outputs": [],
   "source": [
    "def get_score_matrix(matrix):\n",
    "    score_matrix = np.zeros(matrix.shape)\n",
    "    n_meetings = np.sum(matrix)\n",
    "    pA = np.sum(matrix, axis = 1)\n",
    "    pB = np.sum(matrix, axis = 0)\n",
    "    for i in range(matrix.shape[0]):\n",
    "        for j in range(matrix.shape[1]):\n",
    "            score_matrix[i, j] = matrix[i, j] * n_meetings / (pA[i] * pB[j])\n",
    "    return score_matrix\n",
    "score_matrix = get_score_matrix(meet_matrix)"
   ]
  },
  {
   "cell_type": "code",
   "execution_count": 12,
   "metadata": {},
   "outputs": [
    {
     "name": "stderr",
     "output_type": "stream",
     "text": [
      "/Users/vlad/anaconda3/lib/python3.6/site-packages/ipykernel_launcher.py:1: RuntimeWarning: divide by zero encountered in log\n",
      "  \"\"\"Entry point for launching an IPython kernel.\n"
     ]
    },
    {
     "data": {
      "text/plain": [
       "<matplotlib.axes._subplots.AxesSubplot at 0x1a0acd0240>"
      ]
     },
     "execution_count": 12,
     "metadata": {},
     "output_type": "execute_result"
    },
    {
     "data": {
      "image/png": "[encoded data removed]",
      "text/plain": [
       "<matplotlib.figure.Figure at 0x1a0acc1cc0>"
      ]
     },
     "metadata": {},
     "output_type": "display_data"
    }
   ],
   "source": [
    "sns.heatmap(np.log(score_matrix))"
   ]
  },
  {
   "cell_type": "code",
   "execution_count": 13,
   "metadata": {},
   "outputs": [
    {
     "data": {
      "text/html": [
       "<div>\n",
       "<style>\n",
       "    .dataframe thead tr:only-child th {\n",
       "        text-align: right;\n",
       "    }\n",
       "\n",
       "    .dataframe thead th {\n",
       "        text-align: left;\n",
       "    }\n",
       "\n",
       "    .dataframe tbody tr th {\n",
       "        vertical-align: top;\n",
       "    }\n",
       "</style>\n",
       "<table border=\"1\" class=\"dataframe\">\n",
       "  <thead>\n",
       "    <tr style=\"text-align: right;\">\n",
       "      <th></th>\n",
       "      <th>species</th>\n",
       "      <th>gene</th>\n",
       "      <th>seqnt</th>\n",
       "      <th>seqaa</th>\n",
       "      <th>cdr1nt</th>\n",
       "      <th>cdr2nt</th>\n",
       "      <th>cdr2.5nt</th>\n",
       "      <th>cdr1aa</th>\n",
       "      <th>cdr2aa</th>\n",
       "      <th>cdr2.5aa</th>\n",
       "    </tr>\n",
       "  </thead>\n",
       "  <tbody>\n",
       "    <tr>\n",
       "      <th>0</th>\n",
       "      <td>HomoSapiens</td>\n",
       "      <td>TRAV1-1*01</td>\n",
       "      <td>GGACAAAGCCTTGAGCAGCCCTCTGAAGTGACAGCTGTGGAAGGAG...</td>\n",
       "      <td>GQSLEQPSEVTAVEGAIVQINCTYQTSGFYGLSWYQQHDGGAPTFL...</td>\n",
       "      <td>ACATCTGGGTTTTATGGG</td>\n",
       "      <td>AATGCTCTGGATGGTTTG</td>\n",
       "      <td>AGTCGCTCTGATAGT</td>\n",
       "      <td>TSGFYG</td>\n",
       "      <td>NALDGL</td>\n",
       "      <td>SRSDS</td>\n",
       "    </tr>\n",
       "    <tr>\n",
       "      <th>1</th>\n",
       "      <td>HomoSapiens</td>\n",
       "      <td>TRAV1-2*01</td>\n",
       "      <td>GGACAAAACATTGACCAGCCCACTGAGATGACAGCTACGGAAGGTG...</td>\n",
       "      <td>GQNIDQPTEMTATEGAIVQINCTYQTSGFNGLFWYQQHAGEAPTFL...</td>\n",
       "      <td>ACATCTGGGTTCAACGGG</td>\n",
       "      <td>AATGTTCTGGATGGTTTG</td>\n",
       "      <td>AGTCGGTCTAAAGGG</td>\n",
       "      <td>TSGFNG</td>\n",
       "      <td>NVLDGL</td>\n",
       "      <td>SRSKG</td>\n",
       "    </tr>\n",
       "    <tr>\n",
       "      <th>2</th>\n",
       "      <td>HomoSapiens</td>\n",
       "      <td>TRAV10*01</td>\n",
       "      <td>AAAAACCAAGTGGAGCAGAGTCCTCAGTCCCTGATCATCCTGGAGG...</td>\n",
       "      <td>KNQVEQSPQSLIILEGKNCTLQCNYTVSPFSNLRWYKQDTGRGPVS...</td>\n",
       "      <td>GTGAGCCCCTTCAGCAAC</td>\n",
       "      <td>ATGACTTTCAGTGAGAACACA</td>\n",
       "      <td>GATGCAGACACAAAG</td>\n",
       "      <td>VSPFSN</td>\n",
       "      <td>MTFSENT</td>\n",
       "      <td>DADTK</td>\n",
       "    </tr>\n",
       "    <tr>\n",
       "      <th>3</th>\n",
       "      <td>HomoSapiens</td>\n",
       "      <td>TRAV12-1*01</td>\n",
       "      <td>CGGAAGGAGGTGGAGCAGGATCCTGGACCCTTCAATGTTCCAGAGG...</td>\n",
       "      <td>RKEVEQDPGPFNVPEGATVAFNCTYSNSASQSFFWYRQDCRKEPKL...</td>\n",
       "      <td>AACAGTGCTTCTCAGTCT</td>\n",
       "      <td>GTATACTCCAGTGGTAA</td>\n",
       "      <td>AATAGAGCCAGCCAG</td>\n",
       "      <td>NSASQS</td>\n",
       "      <td>VYSSG</td>\n",
       "      <td>NRASQ</td>\n",
       "    </tr>\n",
       "    <tr>\n",
       "      <th>4</th>\n",
       "      <td>HomoSapiens</td>\n",
       "      <td>TRAV12-2*01</td>\n",
       "      <td>CAGAAGGAGGTGGAGCAGAATTCTGGACCCCTCAGTGTTCCAGAGG...</td>\n",
       "      <td>QKEVEQNSGPLSVPEGAIASLNCTYSDRGSQSFFWYRQYSGKSPEL...</td>\n",
       "      <td>GACCGAGGTTCCCAGTCC</td>\n",
       "      <td>ATATACTCCAATGGTGAC</td>\n",
       "      <td>AATAAAGCCAGCCAG</td>\n",
       "      <td>DRGSQS</td>\n",
       "      <td>IYSNGD</td>\n",
       "      <td>NKASQ</td>\n",
       "    </tr>\n",
       "  </tbody>\n",
       "</table>\n",
       "</div>"
      ],
      "text/plain": [
       "       species         gene  \\\n",
       "0  HomoSapiens   TRAV1-1*01   \n",
       "1  HomoSapiens   TRAV1-2*01   \n",
       "2  HomoSapiens    TRAV10*01   \n",
       "3  HomoSapiens  TRAV12-1*01   \n",
       "4  HomoSapiens  TRAV12-2*01   \n",
       "\n",
       "                                               seqnt  \\\n",
       "0  GGACAAAGCCTTGAGCAGCCCTCTGAAGTGACAGCTGTGGAAGGAG...   \n",
       "1  GGACAAAACATTGACCAGCCCACTGAGATGACAGCTACGGAAGGTG...   \n",
       "2  AAAAACCAAGTGGAGCAGAGTCCTCAGTCCCTGATCATCCTGGAGG...   \n",
       "3  CGGAAGGAGGTGGAGCAGGATCCTGGACCCTTCAATGTTCCAGAGG...   \n",
       "4  CAGAAGGAGGTGGAGCAGAATTCTGGACCCCTCAGTGTTCCAGAGG...   \n",
       "\n",
       "                                               seqaa              cdr1nt  \\\n",
       "0  GQSLEQPSEVTAVEGAIVQINCTYQTSGFYGLSWYQQHDGGAPTFL...  ACATCTGGGTTTTATGGG   \n",
       "1  GQNIDQPTEMTATEGAIVQINCTYQTSGFNGLFWYQQHAGEAPTFL...  ACATCTGGGTTCAACGGG   \n",
       "2  KNQVEQSPQSLIILEGKNCTLQCNYTVSPFSNLRWYKQDTGRGPVS...  GTGAGCCCCTTCAGCAAC   \n",
       "3  RKEVEQDPGPFNVPEGATVAFNCTYSNSASQSFFWYRQDCRKEPKL...  AACAGTGCTTCTCAGTCT   \n",
       "4  QKEVEQNSGPLSVPEGAIASLNCTYSDRGSQSFFWYRQYSGKSPEL...  GACCGAGGTTCCCAGTCC   \n",
       "\n",
       "                  cdr2nt         cdr2.5nt  cdr1aa   cdr2aa cdr2.5aa  \n",
       "0     AATGCTCTGGATGGTTTG  AGTCGCTCTGATAGT  TSGFYG   NALDGL    SRSDS  \n",
       "1     AATGTTCTGGATGGTTTG  AGTCGGTCTAAAGGG  TSGFNG   NVLDGL    SRSKG  \n",
       "2  ATGACTTTCAGTGAGAACACA  GATGCAGACACAAAG  VSPFSN  MTFSENT    DADTK  \n",
       "3      GTATACTCCAGTGGTAA  AATAGAGCCAGCCAG  NSASQS    VYSSG    NRASQ  \n",
       "4     ATATACTCCAATGGTGAC  AATAAAGCCAGCCAG  DRGSQS   IYSNGD    NKASQ  "
      ]
     },
     "execution_count": 13,
     "metadata": {},
     "output_type": "execute_result"
    }
   ],
   "source": [
    "pd_seq_data = pd.read_table('misc/251117.cdr12.txt')\n",
    "pd_seq_data.head()"
   ]
  },
  {
   "cell_type": "code",
   "execution_count": 14,
   "metadata": {},
   "outputs": [
    {
     "name": "stdout",
     "output_type": "stream",
     "text": [
      "TRAV1*01 TRAV1-1*01 TRAV1-2*01 TRAV10*01 TRAV10*01 TRAV10D*01 TRAV10N*01 TRAV11*01 TRAV11D*01 TRAV12-1*01 TRAV12-1*01 TRAV12-2*01 TRAV12-2*01 TRAV12-3*01 TRAV12-3*01 TRAV12D-1*01 TRAV12D-2*01 TRAV12N-1*01 TRAV12N-2*01 TRAV12N-3*01 TRAV13-1*01 TRAV13-1*01 TRAV13-2*01 TRAV13-2*01 TRAV13-3*01 TRAV13-4/DV7*01 TRAV13-5*01 TRAV13D-1*01 TRAV13D-2*01 TRAV13D-3*01 TRAV13D-4*01 TRAV13N-1*01 TRAV13N-2*01 TRAV13N-3*01 TRAV13N-4*01 TRAV14-1*01 TRAV14-2*01 TRAV14-3*01 TRAV14/DV4*01 TRAV14D-1*01 TRAV14D-2*01 TRAV14D-3/DV8*01 TRAV14N-1*01 TRAV14N-2*01 TRAV14N-3*01 TRAV15-1/DV6-1*01 TRAV15-2/DV6-2*01 TRAV15D-1/DV6D-1*01 TRAV15D-2/DV6D-2*01 TRAV15N-1*01 TRAV15N-2*01 TRAV16*01 TRAV16*01 TRAV16D/DV11*01 TRAV16N*01 TRAV17*01 TRAV17*01 TRAV18*01 TRAV19*01 TRAV19*01 TRAV2*01 TRAV2*01 TRAV20*01 TRAV21*01 TRAV21/DV12*01 TRAV22*01 TRAV23/DV6*01 TRAV24*01 TRAV25*01 TRAV26-1*01 TRAV26-2*01 TRAV27*01 TRAV29/DV5*01 TRAV3*01 TRAV3-1*01 TRAV3-3*01 TRAV3-4*01 TRAV30*01 TRAV34*01 TRAV35*01 TRAV36/DV7*01 TRAV38-1*01 TRAV38-2/DV8*01 TRAV39*01 TRAV3D-3*01 TRAV3N-3*01 TRAV4*01 TRAV4-2*01 TRAV4-3*01 TRAV4-4/DV10*01 TRAV40*01 TRAV41*01 TRAV4D-3*01 TRAV4D-4*01 TRAV4N-3*01 TRAV4N-4*01 TRAV5*01 TRAV5-1*01 TRAV5N-4*01 TRAV6*01 TRAV6-1*01 TRAV6-2*01 TRAV6-3*01 TRAV6-4*01 TRAV6-5*01 TRAV6-6*01 TRAV6-7/DV9*01 TRAV6D-3*01 TRAV6D-4*01 TRAV6D-5*01 TRAV6D-6*01 TRAV6D-7*01 TRAV6N-5*01 TRAV6N-6*01 TRAV6N-7*01 TRAV7*01 TRAV7-1*01 TRAV7-2*01 TRAV7-3*01 TRAV7-4*01 TRAV7-5*01 TRAV7-6*01 TRAV7D-2*01 TRAV7D-3*01 TRAV7D-4*01 TRAV7D-5*01 TRAV7D-6*01 TRAV7N-4*01 TRAV7N-5*01 TRAV7N-6*01 TRAV8-1*01 TRAV8-1*01 TRAV8-2*01 TRAV8-2*01 TRAV8-3*01 TRAV8-4*01 TRAV8-6*01 TRAV8D-1*01 TRAV8D-2*01 TRAV8N-2*01 TRAV9-1*01 TRAV9-1*01 TRAV9-2*01 TRAV9-2*01 TRAV9-3*01 TRAV9-4*01 TRAV9D-1*01 TRAV9D-2*01 TRAV9D-3*01 TRAV9D-4*01 TRAV9N-2*01 TRAV9N-3*01 TRAV9N-4*01 TRBV1*01 TRBV10-1*01 TRBV10-1*01 TRBV10-2*01 TRBV10-2*01 TRBV10-3*01 TRBV10-3*01 TRBV11-1*01 TRBV11-1*01 TRBV11-2*01 TRBV11-2*01 TRBV11-3*01 TRBV11-3*01 TRBV12-1*01 TRBV12-1*01 TRBV12-2*01 TRBV12-2*01 TRBV12-3*01 TRBV12-3*01 TRBV12-4*01 TRBV12-4*01 TRBV12-5*01 TRBV13*01 TRBV13*01 TRBV13-1*01 TRBV13-2*01 TRBV13-3*01 TRBV14*01 TRBV14*01 TRBV14*01 TRBV15*01 TRBV15*01 TRBV15*01 TRBV16*01 TRBV16*01 TRBV16*01 TRBV17*01 TRBV18*01 TRBV18*01 TRBV19*01 TRBV19*01 TRBV19*01 TRBV2*01 TRBV2*01 TRBV2-1*01 TRBV2-2*01 TRBV2-3*01 TRBV20*01 TRBV20-1*01 TRBV20-1*01 TRBV21-1*01 TRBV23*01 TRBV23-1*01 TRBV24*01 TRBV24-1*01 TRBV24-1*01 TRBV25-1*01 TRBV25-1*01 TRBV26*01 TRBV27*01 TRBV27*01 TRBV28*01 TRBV28*01 TRBV29*01 TRBV29-1*01 TRBV29-1*01 TRBV3*01 TRBV3-1*01 TRBV3-1*01 TRBV3-2*01 TRBV3-3*01 TRBV3-4*01 TRBV30*01 TRBV30*01 TRBV30*01 TRBV31*01 TRBV4*01 TRBV4-1*01 TRBV4-1*01 TRBV4-2*01 TRBV4-2*01 TRBV4-3*01 TRBV4-3*01 TRBV5*01 TRBV5-1*01 TRBV5-10*01 TRBV5-4*01 TRBV5-4*01 TRBV5-5*01 TRBV5-5*01 TRBV5-6*01 TRBV5-6*01 TRBV5-7*01 TRBV5-8*01 TRBV5-8*01 TRBV5-9*01 TRBV6-1*01 TRBV6-1*01 TRBV6-2*01 TRBV6-2*01 TRBV6-3*01 TRBV6-3*01 TRBV6-4*01 TRBV6-4*01 TRBV6-5*01 TRBV6-5*01 TRBV6-6*01 TRBV6-6*01 TRBV6-7*01 TRBV6-8*01 TRBV6-9*01 TRBV7-10*01 TRBV7-2*01 TRBV7-2*01 TRBV7-3*01 TRBV7-3*01 TRBV7-4*01 TRBV7-4*01 TRBV7-5*01 TRBV7-6*01 TRBV7-6*01 TRBV7-7*01 TRBV7-7*01 TRBV7-8*01 TRBV7-9*01 TRBV7-9*01 TRBV9*01 TRBV9*01 TRDV1*01 TRDV1*01 TRDV2*01 TRDV2-1*01 TRDV2-2*01 TRDV3*01 TRDV4*01 TRDV5*01 TRGV1*01 TRGV2*01 TRGV2*01 TRGV3*01 TRGV3*01 TRGV4*01 TRGV4*01 TRGV5*01 TRGV5*01 TRGV6*01 TRGV7*01 TRGV8*01 TRGV9*01 "
     ]
    }
   ],
   "source": [
    "# some sequences are lost during this step. be aware\n",
    "seq_data = pd_seq_data.as_matrix()\n",
    "for i in sorted(seq_data[:, 1]):\n",
    "    print(i, end = ' ')"
   ]
  },
  {
   "cell_type": "code",
   "execution_count": 15,
   "metadata": {
    "collapsed": true
   },
   "outputs": [],
   "source": [
    "def cut_segment_name(name):\n",
    "    if len(name) < 6:\n",
    "        return name\n",
    "    if name[5] >= '0' and name[5] <= '9':\n",
    "        return name[:6]\n",
    "    return name[:5]"
   ]
  },
  {
   "cell_type": "code",
   "execution_count": 16,
   "metadata": {
    "collapsed": true
   },
   "outputs": [],
   "source": [
    "dict_seqaa_data = {cut_segment_name(seq_data[i, 1]):seq_data[i, 3] for i in range(seq_data.shape[0])}"
   ]
  },
  {
   "cell_type": "code",
   "execution_count": 17,
   "metadata": {},
   "outputs": [
    {
     "name": "stdout",
     "output_type": "stream",
     "text": [
      "TRAV1 TRAV10 TRAV11 TRAV12 TRAV13 TRAV14 TRAV15 TRAV16 TRAV17 TRAV18 TRAV19 TRAV2 TRAV20 TRAV21 TRAV22 TRAV23 TRAV24 TRAV25 TRAV26 TRAV27 TRAV29 TRAV3 TRAV30 TRAV34 TRAV35 TRAV36 TRAV38 TRAV39 TRAV4 TRAV40 TRAV41 TRAV5 TRAV6 TRAV7 TRAV8 TRAV9 TRBV1 TRBV10 TRBV11 TRBV12 TRBV13 TRBV14 TRBV15 TRBV16 TRBV17 TRBV18 TRBV19 TRBV2 TRBV20 TRBV21 TRBV23 TRBV24 TRBV25 TRBV26 TRBV27 TRBV28 TRBV29 TRBV3 TRBV30 TRBV31 TRBV4 TRBV5 TRBV6 TRBV7 TRBV9 TRDV1 TRDV2 TRDV3 TRDV4 TRDV5 TRGV1 TRGV2 TRGV3 TRGV4 TRGV5 TRGV6 TRGV7 TRGV8 TRGV9 "
     ]
    }
   ],
   "source": [
    "for i in sorted(dict_seqaa_data.keys()):\n",
    "    print(i, end=' ')"
   ]
  },
  {
   "cell_type": "code",
   "execution_count": 18,
   "metadata": {
    "collapsed": true
   },
   "outputs": [],
   "source": [
    "for i in A_list:\n",
    "    if not cut_segment_name(i) in dict_seqaa_data.keys():\n",
    "        print('Segment without sequence: ', i)"
   ]
  },
  {
   "cell_type": "code",
   "execution_count": 19,
   "metadata": {
    "collapsed": true
   },
   "outputs": [],
   "source": [
    "from Bio import pairwise2\n",
    "from Bio.SubsMat import MatrixInfo as matlist\n",
    "\n",
    "matrix = matlist.blosum62\n",
    "gap_open = -10\n",
    "gap_extend = -0.5\n",
    "\n",
    "def seg_distance(segment1, segment2):\n",
    "    seq1, seq2 = dict_seqaa_data[segment1], dict_seqaa_data[segment2]\n",
    "    return pairwise2.align.globalds(seq1, seq2, matrix, gap_open, gap_extend)[0][2]"
   ]
  },
  {
   "cell_type": "code",
   "execution_count": 20,
   "metadata": {
    "collapsed": true
   },
   "outputs": [],
   "source": [
    "A_distance_matrix = np.zeros((n_A, n_A))\n",
    "for i in range(n_A):\n",
    "    for j in range(n_A):\n",
    "        A_distance_matrix[i, j] = seg_distance(cut_segment_name(A_list[i]), \n",
    "                                               cut_segment_name(A_list[j]))\n",
    "B_distance_matrix = np.zeros((n_B, n_B))\n",
    "for i in range(n_B):\n",
    "    for j in range(n_B):\n",
    "        B_distance_matrix[i, j] = seg_distance(cut_segment_name(B_list[i]), \n",
    "                                               cut_segment_name(B_list[j]))"
   ]
  },
  {
   "cell_type": "code",
   "execution_count": 21,
   "metadata": {
    "collapsed": true
   },
   "outputs": [],
   "source": [
    "n_clusters = 10"
   ]
  },
  {
   "cell_type": "code",
   "execution_count": 22,
   "metadata": {
    "collapsed": true
   },
   "outputs": [],
   "source": [
    "from sklearn.cluster import AgglomerativeClustering\n",
    "\n",
    "agg_cls1 = AgglomerativeClustering(n_clusters=n_clusters, affinity='precomputed', linkage='average')\n",
    "A_aggclusters1 = agg_cls1.fit_predict(A_distance_matrix)\n",
    "B_aggclusters1 = agg_cls1.fit_predict(B_distance_matrix)"
   ]
  },
  {
   "cell_type": "code",
   "execution_count": 23,
   "metadata": {},
   "outputs": [
    {
     "name": "stdout",
     "output_type": "stream",
     "text": [
      "Size of Alpha clusters\n",
      "[128, 1, 1, 1, 1, 1, 1, 1, 1, 1]\n",
      "Size of Alpha clusters\n",
      "[3, 49, 3, 3, 3, 1, 1, 1, 2, 1]\n"
     ]
    }
   ],
   "source": [
    "print('Size of Alpha clusters')\n",
    "print([sum(A_aggclusters1 == i)for i in range(10)])\n",
    "print('Size of Alpha clusters')\n",
    "print([sum(B_aggclusters1 == i) for i in range(10)])"
   ]
  },
  {
   "cell_type": "code",
   "execution_count": 24,
   "metadata": {
    "collapsed": true
   },
   "outputs": [],
   "source": [
    "from sklearn.cluster import AgglomerativeClustering\n",
    "\n",
    "agg_cls2 = AgglomerativeClustering(n_clusters=n_clusters, affinity='precomputed', linkage='complete')\n",
    "A_aggclusters2 = agg_cls2.fit_predict(A_distance_matrix)\n",
    "B_aggclusters2 = agg_cls2.fit_predict(B_distance_matrix)"
   ]
  },
  {
   "cell_type": "code",
   "execution_count": 25,
   "metadata": {},
   "outputs": [
    {
     "name": "stdout",
     "output_type": "stream",
     "text": [
      "Size of Alpha clusters\n",
      "[54, 15, 8, 8, 14, 5, 9, 6, 10, 8]\n",
      "Size of Alpha clusters\n",
      "[11, 12, 9, 7, 3, 5, 4, 8, 5, 3]\n"
     ]
    }
   ],
   "source": [
    "print('Size of Alpha clusters')\n",
    "print([sum(A_aggclusters2 == i) for i in range(10)])\n",
    "print('Size of Alpha clusters')\n",
    "print([sum(B_aggclusters2 == i) for i in range(10)])"
   ]
  },
  {
   "cell_type": "code",
   "execution_count": 26,
   "metadata": {
    "collapsed": true
   },
   "outputs": [],
   "source": [
    "from sklearn.cluster import SpectralClustering\n",
    "\n",
    "spec_cls = SpectralClustering(n_clusters=n_clusters, affinity='precomputed')\n",
    "A_specclusters = spec_cls.fit_predict(A_distance_matrix)\n",
    "B_specclusters = spec_cls.fit_predict(B_distance_matrix)"
   ]
  },
  {
   "cell_type": "code",
   "execution_count": 27,
   "metadata": {},
   "outputs": [
    {
     "name": "stdout",
     "output_type": "stream",
     "text": [
      "Size of Alpha clusters\n",
      "[32, 17, 17, 12, 10, 10, 9, 9, 13, 8]\n",
      "Size of Alpha clusters\n",
      "[7, 7, 4, 12, 8, 9, 6, 4, 2, 8]\n"
     ]
    }
   ],
   "source": [
    "print('Size of Alpha clusters')\n",
    "print([sum(A_specclusters == i) for i in range(10)])\n",
    "print('Size of Alpha clusters')\n",
    "print([sum(B_specclusters == i) for i in range(10)])"
   ]
  },
  {
   "cell_type": "markdown",
   "metadata": {},
   "source": [
    "## Exporting clustering data"
   ]
  },
  {
   "cell_type": "code",
   "execution_count": 28,
   "metadata": {
    "collapsed": true
   },
   "outputs": [],
   "source": [
    "def factor_matrix(x_clustering, y_clustering, matrix):\n",
    "    new_matrix = np.zeros((max(x_clustering) + 1, max(y_clustering) + 1))\n",
    "    for i in range(matrix.shape[0]):\n",
    "        for j in range(matrix.shape[1]):\n",
    "            new_matrix[x_clustering[i], y_clustering[j]] += matrix[i, j]\n",
    "    return new_matrix"
   ]
  },
  {
   "cell_type": "markdown",
   "metadata": {},
   "source": [
    "### Spectral clustering"
   ]
  },
  {
   "cell_type": "code",
   "execution_count": 29,
   "metadata": {
    "collapsed": true
   },
   "outputs": [],
   "source": [
    "A_clusters = A_specclusters\n",
    "B_clusters = B_specclusters"
   ]
  },
  {
   "cell_type": "code",
   "execution_count": 30,
   "metadata": {
    "collapsed": true
   },
   "outputs": [],
   "source": [
    "factorized_meet_matrix = factor_matrix(A_clusters, B_clusters, meet_matrix)\n",
    "factorized_score_matrix = get_score_matrix(factorized_meet_matrix)"
   ]
  },
  {
   "cell_type": "code",
   "execution_count": 31,
   "metadata": {},
   "outputs": [
    {
     "name": "stderr",
     "output_type": "stream",
     "text": [
      "/Users/vlad/anaconda3/lib/python3.6/site-packages/ipykernel_launcher.py:1: RuntimeWarning: divide by zero encountered in log\n",
      "  \"\"\"Entry point for launching an IPython kernel.\n"
     ]
    },
    {
     "data": {
      "text/plain": [
       "<matplotlib.axes._subplots.AxesSubplot at 0x1a0d22a9b0>"
      ]
     },
     "execution_count": 31,
     "metadata": {},
     "output_type": "execute_result"
    },
    {
     "data": {
      "image/png": "[encoded data removed]",
      "text/plain": [
       "<matplotlib.figure.Figure at 0x1a0d22a3c8>"
      ]
     },
     "metadata": {},
     "output_type": "display_data"
    }
   ],
   "source": [
    "sns.heatmap(np.log(factorized_score_matrix))"
   ]
  },
  {
   "cell_type": "code",
   "execution_count": 32,
   "metadata": {},
   "outputs": [
    {
     "data": {
      "text/plain": [
       "<seaborn.matrix.ClusterGrid at 0x1a14075e10>"
      ]
     },
     "execution_count": 32,
     "metadata": {},
     "output_type": "execute_result"
    },
    {
     "data": {
      "image/png": "[encoded data removed]",
      "text/plain": [
       "<matplotlib.figure.Figure at 0x1a0d0ae710>"
      ]
     },
     "metadata": {},
     "output_type": "display_data"
    }
   ],
   "source": [
    "# this method doens't work with log(0) =(((\n",
    "sns.clustermap(factorized_score_matrix, metric=\"correlation\")"
   ]
  },
  {
   "cell_type": "code",
   "execution_count": 33,
   "metadata": {
    "collapsed": true
   },
   "outputs": [],
   "source": [
    "pd_spec_alpha_clusters = pd.DataFrame(np.array([A_list, A_clusters]).T, columns=['segment', 'cluster'])\n",
    "pd_spec_beta_clusters = pd.DataFrame(np.array([B_list, B_clusters]).T, columns=['segment', 'cluster'])"
   ]
  },
  {
   "cell_type": "markdown",
   "metadata": {},
   "source": [
    "### Agglomerative clustering"
   ]
  },
  {
   "cell_type": "code",
   "execution_count": 34,
   "metadata": {
    "collapsed": true
   },
   "outputs": [],
   "source": [
    "A_clusters = A_aggclusters2\n",
    "B_clusters = B_aggclusters2"
   ]
  },
  {
   "cell_type": "code",
   "execution_count": 35,
   "metadata": {
    "collapsed": true
   },
   "outputs": [],
   "source": [
    "factorized_meet_matrix = factor_matrix(A_clusters, B_clusters, meet_matrix)\n",
    "factorized_score_matrix = get_score_matrix(factorized_meet_matrix)"
   ]
  },
  {
   "cell_type": "code",
   "execution_count": 36,
   "metadata": {},
   "outputs": [
    {
     "name": "stderr",
     "output_type": "stream",
     "text": [
      "/Users/vlad/anaconda3/lib/python3.6/site-packages/ipykernel_launcher.py:1: RuntimeWarning: divide by zero encountered in log\n",
      "  \"\"\"Entry point for launching an IPython kernel.\n"
     ]
    },
    {
     "data": {
      "text/plain": [
       "<matplotlib.axes._subplots.AxesSubplot at 0x1a1428ca58>"
      ]
     },
     "execution_count": 36,
     "metadata": {},
     "output_type": "execute_result"
    },
    {
     "data": {
      "image/png": "[encoded data removed]",
      "text/plain": [
       "<matplotlib.figure.Figure at 0x1a144ceb38>"
      ]
     },
     "metadata": {},
     "output_type": "display_data"
    }
   ],
   "source": [
    "sns.heatmap(np.log(factorized_score_matrix))"
   ]
  },
  {
   "cell_type": "code",
   "execution_count": 37,
   "metadata": {},
   "outputs": [
    {
     "data": {
      "text/plain": [
       "<seaborn.matrix.ClusterGrid at 0x1a146c6828>"
      ]
     },
     "execution_count": 37,
     "metadata": {},
     "output_type": "execute_result"
    },
    {
     "data": {
      "image/png": "[encoded data removed]",
      "text/plain": [
       "<matplotlib.figure.Figure at 0x1a146c6128>"
      ]
     },
     "metadata": {},
     "output_type": "display_data"
    }
   ],
   "source": [
    "# this method doens't work with log(0) =(((\n",
    "sns.clustermap(factorized_score_matrix, metric=\"correlation\")"
   ]
  },
  {
   "cell_type": "markdown",
   "metadata": {},
   "source": [
    "Segment names and clusters, they belong to"
   ]
  },
  {
   "cell_type": "code",
   "execution_count": 38,
   "metadata": {
    "collapsed": true
   },
   "outputs": [],
   "source": [
    "pd_agg2_alpha_clusters = pd.DataFrame(np.array([A_list, A_clusters]).T, columns=['segment', 'cluster'])\n",
    "pd_agg2_beta_clusters = pd.DataFrame(np.array([B_list, B_clusters]).T, columns=['segment', 'cluster'])"
   ]
  },
  {
   "cell_type": "code",
   "execution_count": 39,
   "metadata": {
    "collapsed": true
   },
   "outputs": [],
   "source": [
    "# pd_alpha_clusters.to_csv(\"Valpha_clusters.csv\", index_label='Id')\n",
    "# pd_beta_clusters.to_csv(\"Vbeta_clusters.csv\", index_label='Id')"
   ]
  },
  {
   "cell_type": "code",
   "execution_count": 40,
   "metadata": {
    "collapsed": true
   },
   "outputs": [],
   "source": [
    "dict_spec_alpha_clusters = {pd_spec_alpha_clusters.iloc[i, 0]:pd_spec_alpha_clusters.iloc[i, 1] for i in range(pd_spec_alpha_clusters.shape[0])}\n",
    "dict_spec_beta_clusters = {pd_spec_beta_clusters.iloc[i, 0]:pd_spec_beta_clusters.iloc[i, 1] for i in range(pd_spec_beta_clusters.shape[0])}\n",
    "dict_agg2_alpha_clusters = {pd_agg2_alpha_clusters.iloc[i, 0]:pd_agg2_alpha_clusters.iloc[i, 1] for i in range(pd_agg2_alpha_clusters.shape[0])}\n",
    "dict_agg2_beta_clusters = {pd_agg2_beta_clusters.iloc[i, 0]:pd_agg2_beta_clusters.iloc[i, 1] for i in range(pd_agg2_beta_clusters.shape[0])}"
   ]
  },
  {
   "cell_type": "code",
   "execution_count": 41,
   "metadata": {},
   "outputs": [],
   "source": [
    "Va_index = 1\n",
    "Vb_index = 3"
   ]
  },
  {
   "cell_type": "code",
   "execution_count": 42,
   "metadata": {
    "collapsed": true
   },
   "outputs": [],
   "source": [
    "alpha_spec_V_segment = np.array([cut_segment_name(dict_spec_alpha_clusters[v.split(',')[0]]) for v in data[:, Va_index]])\n",
    "beta_spec_V_segment = np.array([cut_segment_name(dict_spec_beta_clusters[v.split(',')[0]]) for v in data[:, Vb_index]])\n",
    "alpha_agg2_V_segment = np.array([cut_segment_name(dict_agg2_alpha_clusters[v.split(',')[0]]) for v in data[:, Va_index]])\n",
    "beta_agg2_V_segment = np.array([cut_segment_name(dict_agg2_beta_clusters[v.split(',')[0]]) for v in data[:, Vb_index]])"
   ]
  },
  {
   "cell_type": "code",
   "execution_count": 43,
   "metadata": {
    "collapsed": true
   },
   "outputs": [],
   "source": [
    "V_segments = pd.DataFrame(np.array([alpha_spec_V_segment, beta_spec_V_segment, \n",
    "                                     alpha_agg2_V_segment, beta_agg2_V_segment]).T, \n",
    "                           columns=['alpha_spec', 'beta_spec', 'alpha_agg2', 'beta_agg2'])"
   ]
  },
  {
   "cell_type": "code",
   "execution_count": 44,
   "metadata": {},
   "outputs": [
    {
     "data": {
      "text/plain": [
       "(3349, 4)"
      ]
     },
     "execution_count": 44,
     "metadata": {},
     "output_type": "execute_result"
    }
   ],
   "source": [
    "V_segments.shape"
   ]
  },
  {
   "cell_type": "markdown",
   "metadata": {},
   "source": [
    "## Kidera factors"
   ]
  },
  {
   "cell_type": "code",
   "execution_count": 59,
   "metadata": {
    "collapsed": true
   },
   "outputs": [],
   "source": [
    "a_index = 0\n",
    "b_index = 2\n",
    "n_features = 27\n",
    "n_bines = 10\n",
    "n_clusters = 10"
   ]
  },
  {
   "cell_type": "code",
   "execution_count": 46,
   "metadata": {
    "collapsed": true
   },
   "outputs": [],
   "source": [
    "aa = ['A', 'C', 'D', 'E', 'F', 'G', 'H', 'I', 'K', 'L', 'M', 'N', 'P', 'Q', 'R', 'S', 'T', 'V', 'W', 'Y']\n",
    "aa2num_table = {aa[i]:i for i in range(20)}\n",
    "\n",
    "def aa2num(aa):\n",
    "    return aa2num_table[aa]\n",
    "\n",
    "def protein2array(protein):\n",
    "    return np.array([aa2num(aa) for aa in protein])"
   ]
  },
  {
   "cell_type": "code",
   "execution_count": 47,
   "metadata": {
    "collapsed": true
   },
   "outputs": [],
   "source": [
    "dict_kidera = {}\n",
    "dict_kidera['A'] = [-1.56, -1.67, -0.97, -0.27, -0.93, -0.78, -0.2, -0.08, 0.21, -0.48]\n",
    "dict_kidera['R'] = [0.22, 1.27, 1.37, 1.87, -1.7, 0.46, 0.92, -0.39, 0.23, 0.93]\n",
    "dict_kidera['N'] = [1.14, -0.07, -0.12, 0.81, 0.18, 0.37, -0.09, 1.23, 1.1, -1.73]\n",
    "dict_kidera['D'] = [0.58, -0.22, -1.58, 0.81, -0.92, 0.15, -1.52, 0.47, 0.76, 0.7]\n",
    "dict_kidera['C'] = [0.12, -0.89, 0.45, -1.05, -0.71, 2.41, 1.52, -0.69, 1.13, 1.1]\n",
    "dict_kidera['Q'] = [-0.47, 0.24, 0.07, 1.1, 1.1, 0.59, 0.84, -0.71, -0.03, -2.33]\n",
    "dict_kidera['E'] = [-1.45, 0.19, -1.61, 1.17, -1.31, 0.4, 0.04, 0.38, -0.35, -0.12]\n",
    "dict_kidera['G'] = [1.46, -1.96, -0.23, -0.16, 0.1, -0.11, 1.32, 2.36, -1.66, 0.46]\n",
    "dict_kidera['H'] = [-0.41, 0.52, -0.28, 0.28, 1.61, 1.01, -1.85, 0.47, 1.13, 1.63]\n",
    "dict_kidera['I'] = [-0.73, -0.16, 1.79, -0.77, -0.54, 0.03, -0.83, 0.51, 0.66, -1.78]\n",
    "dict_kidera['L'] = [-1.04, 0, -0.24, -1.1, -0.55, -2.05, 0.96, -0.76, 0.45, 0.93]\n",
    "dict_kidera['K'] = [-0.34, 0.82, -0.23, 1.7, 1.54, -1.62, 1.15, -0.08, -0.48, 0.6]\n",
    "dict_kidera['M'] = [-1.4, 0.18, -0.42, -0.73, 2, 1.52, 0.26, 0.11, -1.27, 0.27]\n",
    "dict_kidera['F'] = [-0.21, 0.98, -0.36, -1.43, 0.22, -0.81, 0.67, 1.1, 1.71, -0.44]\n",
    "dict_kidera['P'] = [2.06, -0.33, -1.15, -0.75, 0.88, -0.45, 0.3, -2.3, 0.74, -0.28]\n",
    "dict_kidera['S'] = [0.81, -1.08, 0.16, 0.42, -0.21, -0.43, -1.89, -1.15, -0.97, -0.23]\n",
    "dict_kidera['T'] = [0.26, -0.7, 1.21, 0.63, -0.1, 0.21, 0.24, -1.15, -0.56, 0.19]\n",
    "dict_kidera['W'] = [0.3, 2.1, -0.72, -1.57, -1.16, 0.57, -0.48, -0.4, -2.3, -0.6]\n",
    "dict_kidera['Y'] = [1.38, 1.48, 0.8, -0.56, 0, -0.68, -0.31, 1.03, -0.05, 0.53]\n",
    "dict_kidera['V'] = [-0.74, -0.71, 2.04, -0.4, 0.5, -0.81, -1.07, 0.06, -0.46, 0.65]\n",
    "\n",
    "kidera = np.zeros((20, 10))\n",
    "for i in range(20):\n",
    "    kidera[i, :] = dict_kidera[aa[i]]"
   ]
  },
  {
   "cell_type": "code",
   "execution_count": 48,
   "metadata": {},
   "outputs": [],
   "source": [
    "alpha_letters = np.zeros((n_samples, 20))\n",
    "alpha_mean_kidera = np.zeros((n_samples, 10))\n",
    "alpha_std_kidera = np.zeros((n_samples, 10))\n",
    "alpha_shift_kidera = np.zeros((n_samples, 10))\n",
    "\n",
    "for i in range(n_samples):\n",
    "    array = protein2array(data[i, a_index])\n",
    "    for aa in array:\n",
    "        alpha_letters[i, aa] += 1\n",
    "    properties = kidera[array, :]\n",
    "    alpha_mean_kidera[i, :] = np.mean(properties, axis=0)\n",
    "    alpha_std_kidera[i, :] = np.std(properties, axis=0)\n",
    "    alpha_shift_kidera[i, :] = np.dot(properties.T, np.linspace(-1., 1., properties.shape[0]))"
   ]
  },
  {
   "cell_type": "code",
   "execution_count": 49,
   "metadata": {},
   "outputs": [],
   "source": [
    "beta_letters = np.zeros((n_samples, 20))\n",
    "beta_mean_kidera = np.zeros((n_samples, 10))\n",
    "beta_std_kidera = np.zeros((n_samples, 10))\n",
    "beta_shift_kidera = np.zeros((n_samples, 10))\n",
    "\n",
    "for i in range(n_samples):\n",
    "    array = protein2array(data[i, b_index])\n",
    "    for aa in array:\n",
    "        beta_letters[i, aa] += 1\n",
    "    properties = kidera[array, :]\n",
    "    beta_mean_kidera[i, :] = np.mean(properties, axis=0)\n",
    "    beta_std_kidera[i, :] = np.std(properties, axis=0)\n",
    "    beta_shift_kidera[i, :] = np.dot(properties.T, np.linspace(-1., 1., properties.shape[0]))"
   ]
  },
  {
   "cell_type": "code",
   "execution_count": 50,
   "metadata": {
    "collapsed": true
   },
   "outputs": [],
   "source": [
    "def letters(protein):\n",
    "    counter = np.zeros((20,), dtype = int)\n",
    "    for l in protein:\n",
    "        counter[aa2num[l]] += 1\n",
    "    return counter\n",
    "\n",
    "def shift_prop(protein, dictionary):\n",
    "    prop = prop_array(protein, dictionary)\n",
    "    return np.array([np.dot(prop[:, i], np.linspace(-1., 1., prop.shape[0])) for i in range(10)], dtype='float')"
   ]
  },
  {
   "cell_type": "code",
   "execution_count": 51,
   "metadata": {
    "collapsed": true
   },
   "outputs": [],
   "source": [
    "alpha_length = np.array([len(protein) for protein in data[:, 0]])\n",
    "beta_length = np.array([len(protein) for protein in data[:, 1]])"
   ]
  },
  {
   "cell_type": "code",
   "execution_count": 52,
   "metadata": {},
   "outputs": [],
   "source": [
    "def QuantileBins(array, n_bines=n_bines):\n",
    "    temp = array.argsort()\n",
    "    ranks = np.empty_like(temp)\n",
    "    ranks[temp] = np.arange(array.shape[0])\n",
    "    return ranks * n_bines // array.shape[0]\n",
    "\n",
    "def MinMaxBins(array, n_bines=n_bines):\n",
    "    min_, max_ = min(array), max(array)\n",
    "    return (array - min_) * n_bines // (max_ - min_)"
   ]
  },
  {
   "cell_type": "code",
   "execution_count": 82,
   "metadata": {},
   "outputs": [],
   "source": [
    "alpha_mean_kidera_classes = np.zeros((n_samples, 10), dtype=int)\n",
    "beta_mean_kidera_classes = np.zeros((n_samples, 10), dtype=int)\n",
    "\n",
    "for i in range(10):\n",
    "    #alpha_mean_kidera_classes[:, i] = QuantileBins(alpha_mean_kidera[:, i])\n",
    "    #beta_mean_kidera_classes[:, i] = QuantileBins(beta_mean_kidera[:, i])\n",
    "    alpha_mean_kidera_classes[:, i] = MinMaxBins(alpha_mean_kidera[:, i])\n",
    "    beta_mean_kidera_classes[:, i] = MinMaxBins(beta_mean_kidera[:, i])\n",
    "\n",
    "alpha_length_bin = MinMaxBins(alpha_length)\n",
    "beta_length_bin = MinMaxBins(beta_length)"
   ]
  },
  {
   "cell_type": "markdown",
   "metadata": {},
   "source": [
    "## Data Merge"
   ]
  },
  {
   "cell_type": "code",
   "execution_count": 83,
   "metadata": {},
   "outputs": [],
   "source": [
    "A = np.concatenate([alpha_length_bin.reshape((n_samples, 1)), \n",
    "                    V_segments.iloc[:, [0, 2]], \n",
    "                    alpha_mean_kidera_classes], \n",
    "                   axis=1)\n",
    "\n",
    "B = np.concatenate([beta_length_bin.reshape((n_samples, 1)), \n",
    "                    V_segments.iloc[:, [1, 3]], \n",
    "                    beta_mean_kidera_classes], \n",
    "                   axis=1)"
   ]
  },
  {
   "cell_type": "code",
   "execution_count": 84,
   "metadata": {},
   "outputs": [],
   "source": [
    "Bp = np.random.permutation(B)\n",
    "AB = np.concatenate([A, B], axis=1)\n",
    "ABp = np.concatenate([A,Bp], axis=1)"
   ]
  },
  {
   "cell_type": "code",
   "execution_count": 85,
   "metadata": {
    "collapsed": true
   },
   "outputs": [],
   "source": [
    "bayes_columns=['a_length_bin', 'a_V_segment_spec', 'a_V_segment_agg'] + ['a_kidera'+str(i+1) for i in range(10)]  +\\\n",
    "              ['b_length_bin', 'b_V_segment_spec', 'b_V_segment_agg'] + ['b_kidera'+str(i+1) for i in range(10)]  +\\\n",
    "              ['are_paired']"
   ]
  },
  {
   "cell_type": "code",
   "execution_count": 86,
   "metadata": {},
   "outputs": [],
   "source": [
    "from sklearn.model_selection import ShuffleSplit\n",
    "\n",
    "rs = ShuffleSplit(n_splits = 1, test_size = 0.33)\n",
    "train_index, test_index = next(rs.split(alpha_mean_kidera))\n",
    "\n",
    "def GetShufflingDataSplit(alpha, beta, train_index=train_index, test_index=test_index):\n",
    "    A_train, A_test = alpha[train_index], alpha[test_index]\n",
    "    B_train, B_test = beta[train_index], beta[test_index]\n",
    "    Bp_train, Bp_test = np.random.permutation(B_train), np.random.permutation(B_test)\n",
    "    \n",
    "    Xn_train = np.concatenate([A_train, B_train], axis = 1)\n",
    "    Xp_train = np.concatenate([A_train, Bp_train], axis = 1)\n",
    "    Xn_test = np.concatenate([A_test, B_test], axis = 1)\n",
    "    Xp_test = np.concatenate([A_test, Bp_test], axis = 1)\n",
    "\n",
    "    X_train = np.concatenate([Xn_train, Xp_train], axis = 0)\n",
    "    X_test = np.concatenate([Xn_test, Xp_test], axis = 0)\n",
    "    y_train, y_test = np.zeros((2 * len(train_index), 2)), np.zeros((2 * len(test_index), 2))\n",
    "    for i in range(len(train_index)):\n",
    "        y_train[i, 1] = 1\n",
    "        y_train[i + len(train_index), 0] = 1\n",
    "    for i in range(len(test_index)):\n",
    "        y_test[i, 1] = 1\n",
    "        y_test[i + len(test_index), 0] = 1\n",
    "    return X_train, y_train, X_test, y_test"
   ]
  },
  {
   "cell_type": "code",
   "execution_count": 87,
   "metadata": {},
   "outputs": [],
   "source": [
    "X_train, y_train, X_test, y_test = GetShufflingDataSplit(A, B)\n",
    "\n",
    "bayes_train_table = np.zeros((X_train.shape[0], n_features))\n",
    "bayes_train_table[:, :-1] = X_train\n",
    "bayes_train_table[:, -1] = y_train[:, 1]\n",
    "\n",
    "bayes_test_table = np.zeros((X_test.shape[0], n_features))\n",
    "bayes_test_table[:, :-1] = X_test\n",
    "bayes_test_table[:, -1] = y_test[:, 1]"
   ]
  },
  {
   "cell_type": "markdown",
   "metadata": {},
   "source": [
    "## Export"
   ]
  },
  {
   "cell_type": "code",
   "execution_count": 88,
   "metadata": {
    "collapsed": true
   },
   "outputs": [],
   "source": [
    "pd.DataFrame(bayes_train_table, columns=bayes_columns).to_csv(\"vdjdb_mm_train_bayes.csv\")\n",
    "pd.DataFrame(bayes_test_table, columns=bayes_columns).to_csv(\"vdjdb_mm_test_bayes.csv\")"
   ]
  },
  {
   "cell_type": "code",
   "execution_count": 81,
   "metadata": {
    "collapsed": true
   },
   "outputs": [],
   "source": [
    "#pd.DataFrame(bayes_train_table, columns=bayes_columns).to_csv(\"vdjdb_q_train_bayes.csv\")\n",
    "#pd.DataFrame(bayes_test_table, columns=bayes_columns).to_csv(\"vdjdb_q_test_bayes.csv\")"
   ]
  },
  {
   "cell_type": "markdown",
   "metadata": {},
   "source": [
    "## Result"
   ]
  },
  {
   "cell_type": "markdown",
   "metadata": {},
   "source": [
    "bins:min,max\n",
    "\n",
    "bnlearn method:tabu\n",
    "\n",
    "<img src=\"files/vdjdb_mm_tabu.pdf\", width=1500>"
   ]
  },
  {
   "cell_type": "markdown",
   "metadata": {},
   "source": [
    "bins:min,max\n",
    "\n",
    "bnlearn method:hc\n",
    "\n",
    "<img src=\"files/vdjdb_mm_hc.pdf\", width=1500>"
   ]
  },
  {
   "cell_type": "markdown",
   "metadata": {},
   "source": [
    "bins:quantile\n",
    "\n",
    "bnlearn method:hc\n",
    "\n",
    "<img src=\"files/vdjdb_q_hc.pdf\", width=1500>"
   ]
  },
  {
   "cell_type": "markdown",
   "metadata": {},
   "source": [
    "bins:quantile\n",
    "\n",
    "bnlearn method:tabu\n",
    "\n",
    "<img src=\"files/vdjdb_q_tabu.pdf\", width=1500>"
   ]
  },
  {
   "cell_type": "markdown",
   "metadata": {},
   "source": [
    "All methods show that length of beta chain is correlated to cluster of V segment in spectral clustering"
   ]
  },
  {
   "cell_type": "code",
   "execution_count": null,
   "metadata": {
    "collapsed": true
   },
   "outputs": [],
   "source": []
  }
 ],
 "metadata": {
  "kernelspec": {
   "display_name": "Python 3",
   "language": "python",
   "name": "python3"
  },
  "language_info": {
   "codemirror_mode": {
    "name": "ipython",
    "version": 3
   },
   "file_extension": ".py",
   "mimetype": "text/x-python",
   "name": "python",
   "nbconvert_exporter": "python",
   "pygments_lexer": "ipython3",
   "version": "3.6.3"
  }
 },
 "nbformat": 4,
 "nbformat_minor": 2
}
