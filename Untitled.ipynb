{
 "cells": [
  {
   "cell_type": "code",
   "execution_count": 1,
   "metadata": {
    "collapsed": true
   },
   "outputs": [],
   "source": [
    "import numpy as np\n",
    "import pandas as pd\n",
    "import matplotlib.pyplot as plt\n",
    "\n",
    "%matplotlib inline"
   ]
  },
  {
   "cell_type": "code",
   "execution_count": 33,
   "metadata": {},
   "outputs": [
    {
     "data": {
      "text/html": [
       "<div>\n",
       "<style>\n",
       "    .dataframe thead tr:only-child th {\n",
       "        text-align: right;\n",
       "    }\n",
       "\n",
       "    .dataframe thead th {\n",
       "        text-align: left;\n",
       "    }\n",
       "\n",
       "    .dataframe tbody tr th {\n",
       "        vertical-align: top;\n",
       "    }\n",
       "</style>\n",
       "<table border=\"1\" class=\"dataframe\">\n",
       "  <thead>\n",
       "    <tr style=\"text-align: right;\">\n",
       "      <th></th>\n",
       "      <th>database</th>\n",
       "      <th>species</th>\n",
       "      <th>sample</th>\n",
       "      <th>epitope</th>\n",
       "      <th>antigen</th>\n",
       "      <th>tissue</th>\n",
       "      <th>cell_subset</th>\n",
       "      <th>alpha.v</th>\n",
       "      <th>alpha.j</th>\n",
       "      <th>alpha.cdr3</th>\n",
       "      <th>beta.v</th>\n",
       "      <th>beta.d</th>\n",
       "      <th>beta.j</th>\n",
       "      <th>beta.cdr3</th>\n",
       "    </tr>\n",
       "  </thead>\n",
       "  <tbody>\n",
       "    <tr>\n",
       "      <th>0</th>\n",
       "      <td>vdjdb_ab,vdjdb</td>\n",
       "      <td>HomoSapiens</td>\n",
       "      <td>NaN</td>\n",
       "      <td>LLWNGPMAV</td>\n",
       "      <td>NaN</td>\n",
       "      <td>PBMC</td>\n",
       "      <td>CD8+</td>\n",
       "      <td>TRAV12-3*01</td>\n",
       "      <td>TRAJ23*01</td>\n",
       "      <td>CAMSGGKLIF</td>\n",
       "      <td>TRBV15*01</td>\n",
       "      <td>TRBD2</td>\n",
       "      <td>TRBJ2-7*01</td>\n",
       "      <td>CATSRASGSYEQYF</td>\n",
       "    </tr>\n",
       "    <tr>\n",
       "      <th>1</th>\n",
       "      <td>vdjdb_ab,vdjdb</td>\n",
       "      <td>HomoSapiens</td>\n",
       "      <td>NaN</td>\n",
       "      <td>GILGFVFTL</td>\n",
       "      <td>M1</td>\n",
       "      <td>PBMC</td>\n",
       "      <td>CD8+</td>\n",
       "      <td>TRAV13-2*01</td>\n",
       "      <td>TRAJ42*01</td>\n",
       "      <td>CAENMGGGSQGNLIF</td>\n",
       "      <td>TRBV19*01</td>\n",
       "      <td>NaN</td>\n",
       "      <td>TRBJ2-5*01</td>\n",
       "      <td>CASSVRAGETQYF</td>\n",
       "    </tr>\n",
       "    <tr>\n",
       "      <th>2</th>\n",
       "      <td>vdjdb_ab,vdjdb</td>\n",
       "      <td>HomoSapiens</td>\n",
       "      <td>NaN</td>\n",
       "      <td>NLVPMVATV</td>\n",
       "      <td>pp65</td>\n",
       "      <td>PBMC</td>\n",
       "      <td>CD8+</td>\n",
       "      <td>TRAV13-2*01</td>\n",
       "      <td>TRAJ50*01</td>\n",
       "      <td>CAETPGPSYDKVIF</td>\n",
       "      <td>TRBV30*01</td>\n",
       "      <td>NaN</td>\n",
       "      <td>TRBJ2-4*01</td>\n",
       "      <td>CAWSISDLAKNIQYF</td>\n",
       "    </tr>\n",
       "    <tr>\n",
       "      <th>3</th>\n",
       "      <td>vdjdb_ab,vdjdb</td>\n",
       "      <td>HomoSapiens</td>\n",
       "      <td>NaN</td>\n",
       "      <td>NLVPMVATV</td>\n",
       "      <td>NaN</td>\n",
       "      <td>PBMC</td>\n",
       "      <td>CD8+</td>\n",
       "      <td>TRAV12-3*01</td>\n",
       "      <td>TRAJ49*01</td>\n",
       "      <td>CATYLTGNQFYF</td>\n",
       "      <td>TRBV12-4*01</td>\n",
       "      <td>NaN</td>\n",
       "      <td>TRBJ2-7*01</td>\n",
       "      <td>CASSQALPYEQYF</td>\n",
       "    </tr>\n",
       "    <tr>\n",
       "      <th>4</th>\n",
       "      <td>vdjdb_ab,vdjdb</td>\n",
       "      <td>HomoSapiens</td>\n",
       "      <td>NaN</td>\n",
       "      <td>LLWNGPMAV</td>\n",
       "      <td>NaN</td>\n",
       "      <td>PBMC</td>\n",
       "      <td>CD8+</td>\n",
       "      <td>TRAV12-2*01</td>\n",
       "      <td>NaN</td>\n",
       "      <td>CAVSGQKLLF</td>\n",
       "      <td>TRBV20-1*01</td>\n",
       "      <td>TRBD2</td>\n",
       "      <td>TRBJ2-7*01</td>\n",
       "      <td>CSASDNMVGAYEQYF</td>\n",
       "    </tr>\n",
       "  </tbody>\n",
       "</table>\n",
       "</div>"
      ],
      "text/plain": [
       "         database      species sample    epitope antigen tissue cell_subset  \\\n",
       "0  vdjdb_ab,vdjdb  HomoSapiens    NaN  LLWNGPMAV     NaN   PBMC        CD8+   \n",
       "1  vdjdb_ab,vdjdb  HomoSapiens    NaN  GILGFVFTL      M1   PBMC        CD8+   \n",
       "2  vdjdb_ab,vdjdb  HomoSapiens    NaN  NLVPMVATV    pp65   PBMC        CD8+   \n",
       "3  vdjdb_ab,vdjdb  HomoSapiens    NaN  NLVPMVATV     NaN   PBMC        CD8+   \n",
       "4  vdjdb_ab,vdjdb  HomoSapiens    NaN  LLWNGPMAV     NaN   PBMC        CD8+   \n",
       "\n",
       "       alpha.v    alpha.j       alpha.cdr3       beta.v beta.d      beta.j  \\\n",
       "0  TRAV12-3*01  TRAJ23*01       CAMSGGKLIF    TRBV15*01  TRBD2  TRBJ2-7*01   \n",
       "1  TRAV13-2*01  TRAJ42*01  CAENMGGGSQGNLIF    TRBV19*01    NaN  TRBJ2-5*01   \n",
       "2  TRAV13-2*01  TRAJ50*01   CAETPGPSYDKVIF    TRBV30*01    NaN  TRBJ2-4*01   \n",
       "3  TRAV12-3*01  TRAJ49*01     CATYLTGNQFYF  TRBV12-4*01    NaN  TRBJ2-7*01   \n",
       "4  TRAV12-2*01        NaN       CAVSGQKLLF  TRBV20-1*01  TRBD2  TRBJ2-7*01   \n",
       "\n",
       "         beta.cdr3  \n",
       "0   CATSRASGSYEQYF  \n",
       "1    CASSVRAGETQYF  \n",
       "2  CAWSISDLAKNIQYF  \n",
       "3    CASSQALPYEQYF  \n",
       "4  CSASDNMVGAYEQYF  "
      ]
     },
     "execution_count": 33,
     "metadata": {},
     "output_type": "execute_result"
    }
   ],
   "source": [
    "data_pd = pd.read_csv('data/MergedData.csv', index_col=0)\n",
    "data_pd = data_pd.loc[data_pd['species'] == 'HomoSapiens']\n",
    "data_pd = data_pd.loc[~pd.isnull(data_pd['epitope'])]\n",
    "data_pd.index = np.arange(data_pd.shape[0])\n",
    "data_pd.head()"
   ]
  },
  {
   "cell_type": "code",
   "execution_count": 34,
   "metadata": {},
   "outputs": [],
   "source": [
    "epitops = set(data_pd['epitope'])\n",
    "epitops_dict = {x:[] for x in epitops}\n",
    "for i, x in enumerate(data_pd['epitope']):\n",
    "    epitops_dict[x].append(i)"
   ]
  },
  {
   "cell_type": "code",
   "execution_count": 36,
   "metadata": {},
   "outputs": [
    {
     "data": {
      "text/plain": [
       "array([['CINGVCWTV', '79'],\n",
       "       ['GLCTLVAML', '152'],\n",
       "       ['NLVPMVATV', '175'],\n",
       "       ['LLWNGPMAV', '197'],\n",
       "       ['GILGFVFTL', '406']],\n",
       "      dtype='<U125')"
      ]
     },
     "execution_count": 36,
     "metadata": {},
     "output_type": "execute_result"
    }
   ],
   "source": [
    "epitops_size = {x:len(epitops_dict[x]) for x in epitops_dict}\n",
    "epitops_size = np.array(list(epitops_size.items()))\n",
    "epitops_size[np.argsort([int(x) for x in epitops_size[:, 1]])[-5:]]"
   ]
  },
  {
   "cell_type": "code",
   "execution_count": 39,
   "metadata": {},
   "outputs": [],
   "source": [
    "edata_pd = data_pd.loc[epitops_dict['GILGFVFTL']][['alpha.cdr3', 'beta.cdr3']].drop_duplicates()"
   ]
  },
  {
   "cell_type": "code",
   "execution_count": 41,
   "metadata": {},
   "outputs": [
    {
     "data": {
      "text/html": [
       "<div>\n",
       "<style>\n",
       "    .dataframe thead tr:only-child th {\n",
       "        text-align: right;\n",
       "    }\n",
       "\n",
       "    .dataframe thead th {\n",
       "        text-align: left;\n",
       "    }\n",
       "\n",
       "    .dataframe tbody tr th {\n",
       "        vertical-align: top;\n",
       "    }\n",
       "</style>\n",
       "<table border=\"1\" class=\"dataframe\">\n",
       "  <thead>\n",
       "    <tr style=\"text-align: right;\">\n",
       "      <th></th>\n",
       "      <th>alpha.cdr3</th>\n",
       "      <th>beta.cdr3</th>\n",
       "    </tr>\n",
       "  </thead>\n",
       "  <tbody>\n",
       "    <tr>\n",
       "      <th>1</th>\n",
       "      <td>CAENMGGGSQGNLIF</td>\n",
       "      <td>CASSVRAGETQYF</td>\n",
       "    </tr>\n",
       "    <tr>\n",
       "      <th>5</th>\n",
       "      <td>CAGALGSSNTGKLIF</td>\n",
       "      <td>CASSIRSAYEQYF</td>\n",
       "    </tr>\n",
       "    <tr>\n",
       "      <th>7</th>\n",
       "      <td>CAATGGGSQGNLIF</td>\n",
       "      <td>CASSTRSQETQYF</td>\n",
       "    </tr>\n",
       "    <tr>\n",
       "      <th>9</th>\n",
       "      <td>CAVINQAGTALIF</td>\n",
       "      <td>CASSLERNTYEQYF</td>\n",
       "    </tr>\n",
       "    <tr>\n",
       "      <th>12</th>\n",
       "      <td>CAYRADSNYQLIW</td>\n",
       "      <td>CASSYNVRDGDYGYTF</td>\n",
       "    </tr>\n",
       "  </tbody>\n",
       "</table>\n",
       "</div>"
      ],
      "text/plain": [
       "         alpha.cdr3         beta.cdr3\n",
       "1   CAENMGGGSQGNLIF     CASSVRAGETQYF\n",
       "5   CAGALGSSNTGKLIF     CASSIRSAYEQYF\n",
       "7    CAATGGGSQGNLIF     CASSTRSQETQYF\n",
       "9     CAVINQAGTALIF    CASSLERNTYEQYF\n",
       "12    CAYRADSNYQLIW  CASSYNVRDGDYGYTF"
      ]
     },
     "execution_count": 41,
     "metadata": {},
     "output_type": "execute_result"
    }
   ],
   "source": [
    "edata_pd.head()"
   ]
  },
  {
   "cell_type": "code",
   "execution_count": null,
   "metadata": {},
   "outputs": [],
   "source": []
  },
  {
   "cell_type": "code",
   "execution_count": null,
   "metadata": {
    "collapsed": true
   },
   "outputs": [],
   "source": []
  }
 ],
 "metadata": {
  "kernelspec": {
   "display_name": "Python 3",
   "language": "python",
   "name": "python3"
  },
  "language_info": {
   "codemirror_mode": {
    "name": "ipython",
    "version": 3
   },
   "file_extension": ".py",
   "mimetype": "text/x-python",
   "name": "python",
   "nbconvert_exporter": "python",
   "pygments_lexer": "ipython3",
   "version": "3.6.3"
  }
 },
 "nbformat": 4,
 "nbformat_minor": 2
}
