{
 "cells": [
  {
   "cell_type": "code",
   "execution_count": 1,
   "metadata": {
    "collapsed": true
   },
   "outputs": [],
   "source": [
    "import numpy as np\n",
    "import pandas as pd\n",
    "import matplotlib.pyplot as plt\n",
    "from sklearn.model_selection import train_test_split\n",
    "import seaborn as sns\n",
    "import itertools\n",
    "import networkx as nx\n",
    "\n",
    "%matplotlib inline"
   ]
  },
  {
   "cell_type": "code",
   "execution_count": 2,
   "metadata": {
    "collapsed": true
   },
   "outputs": [],
   "source": [
    "data_pd = pd.read_csv('data/MergedData.csv', index_col=0)\n",
    "data_pd = data_pd.loc[data_pd['species'] == 'HomoSapiens']\n",
    "data_pd = data_pd.loc[data_pd['database'] == 'tcr_ab_pairs']\n",
    "data_pd.index = np.arange(data_pd.shape[0])"
   ]
  },
  {
   "cell_type": "code",
   "execution_count": 3,
   "metadata": {
    "collapsed": true
   },
   "outputs": [],
   "source": [
    "acdr3 = data_pd['alpha.cdr3'].as_matrix()\n",
    "bcdr3 = data_pd['beta.cdr3'].as_matrix()\n",
    "acdr3_length = np.array([len(x) for x in acdr3])\n",
    "bcdr3_length = np.array([len(x) for x in bcdr3])"
   ]
  },
  {
   "cell_type": "code",
   "execution_count": 4,
   "metadata": {
    "collapsed": true
   },
   "outputs": [],
   "source": [
    "auseless_positions = {7: [6],\n",
    " 8: [2],\n",
    " 9: [1],\n",
    " 10: [4, 9],\n",
    " 11: [2, 4, 10],\n",
    " 12: [2, 11],\n",
    " 13: [4],\n",
    " 14: [4, 13],\n",
    " 15: [4],\n",
    " 16: [4, 5, 15],\n",
    " 17: [4, 6, 16],\n",
    " 18: [5, 6, 17],\n",
    " 19: [4]}\n",
    "\n",
    "buseless_positions = {7: [],\n",
    " 8: [],\n",
    " 9: [2],\n",
    " 10: [4, 9],\n",
    " 11: [4, 6],\n",
    " 12: [4, 11],\n",
    " 13: [4],\n",
    " 14: [4, 5, 6, 13],\n",
    " 15: [4, 14],\n",
    " 16: [4, 15],\n",
    " 17: [4, 16],\n",
    " 18: [7, 8, 11, 17],\n",
    " 19: []}"
   ]
  },
  {
   "cell_type": "code",
   "execution_count": 5,
   "metadata": {
    "collapsed": true
   },
   "outputs": [],
   "source": [
    "acdr3f = np.zeros((acdr3.shape[0]), dtype=object)\n",
    "for i in range(acdr3.shape[0]):\n",
    "    arr = np.array(list(acdr3[i]))\n",
    "    if len(arr) in auseless_positions.keys():\n",
    "        arr[auseless_positions[len(arr)]] = 'X'\n",
    "    acdr3f[i] = ''.join(arr)\n",
    "    \n",
    "bcdr3f = np.zeros((bcdr3.shape[0]), dtype=object)\n",
    "for i in range(bcdr3.shape[0]):\n",
    "    arr = np.array(list(bcdr3[i]))\n",
    "    if len(arr) in buseless_positions.keys():\n",
    "        arr[buseless_positions[len(arr)]] = 'X'\n",
    "    bcdr3f[i] = ''.join(arr)\n",
    "\n",
    "acdr3 = acdr3f\n",
    "bcdr3 = bcdr3f"
   ]
  },
  {
   "cell_type": "code",
   "execution_count": 6,
   "metadata": {
    "collapsed": true
   },
   "outputs": [],
   "source": [
    "def aapClusters(sequences, indexing, mmm=1, delimeter='*'):\n",
    "    l = len(sequences[0])\n",
    "    clusters = []\n",
    "    masks = itertools.combinations(np.arange(l), mmm)\n",
    "    for mask in masks:\n",
    "        mask = [-1] + list(mask) + [l]\n",
    "        masker = lambda x: delimeter.join([x[mask[i] + 1:mask[i + 1]] for i in range(mmm + 1)])\n",
    "        factor = set([masker(x) for x in sequences])\n",
    "        c = {m:[] for m in factor}\n",
    "        for i, x in enumerate(sequences):\n",
    "            c[masker(x)].append(indexing[i])\n",
    "        for m in factor:\n",
    "            if len(c[m]) > 1:\n",
    "                clusters.append(c[m])\n",
    "    return clusters\n",
    "\n",
    "def EdgeListfromClusters(n, clusters):\n",
    "    edges = set([])\n",
    "    for cluster in clusters:\n",
    "        for x, y in itertools.combinations(cluster, 2):\n",
    "            edges.add((x, y))\n",
    "    return list(edges)"
   ]
  },
  {
   "cell_type": "code",
   "execution_count": 7,
   "metadata": {
    "collapsed": true
   },
   "outputs": [],
   "source": [
    "aedges = []\n",
    "for l in range(6, 20):\n",
    "    indexes = np.arange(acdr3.shape[0])[acdr3_length == l]\n",
    "    a = acdr3[indexes]\n",
    "    clusters = aapClusters(a, indexes)\n",
    "    e = EdgeListfromClusters(acdr3.shape[0], clusters)\n",
    "    aedges += e\n",
    "\n",
    "bedges = []\n",
    "for l in range(6, 20):\n",
    "    indexes = np.arange(bcdr3.shape[0])[bcdr3_length == l]\n",
    "    b = bcdr3[indexes]\n",
    "    clusters = aapClusters(b, indexes)\n",
    "    e = EdgeListfromClusters(bcdr3.shape[0], clusters)\n",
    "    bedges += e"
   ]
  },
  {
   "cell_type": "code",
   "execution_count": 13,
   "metadata": {},
   "outputs": [],
   "source": [
    "aadj = [[] for i in range(acdr3.shape[0])]\n",
    "badj = [[] for i in range(acdr3.shape[0])]\n",
    "\n",
    "for i in aedges:\n",
    "    aadj[i[0]].append(i[1])\n",
    "    aadj[i[1]].append(i[0])\n",
    "\n",
    "for i in bedges:\n",
    "    badj[i[0]].append(i[1])\n",
    "    badj[i[1]].append(i[0])"
   ]
  },
  {
   "cell_type": "code",
   "execution_count": 14,
   "metadata": {
    "collapsed": true
   },
   "outputs": [],
   "source": [
    "superadj = [list(set(aadj[i]) & set(badj[i]))for i in range(acdr3.shape[0])]"
   ]
  },
  {
   "cell_type": "code",
   "execution_count": 16,
   "metadata": {},
   "outputs": [
    {
     "data": {
      "text/plain": [
       "11870"
      ]
     },
     "execution_count": 16,
     "metadata": {},
     "output_type": "execute_result"
    }
   ],
   "source": [
    "s = 0\n",
    "for i in superadj:\n",
    "    s += len(i)\n",
    "s"
   ]
  },
  {
   "cell_type": "code",
   "execution_count": 18,
   "metadata": {},
   "outputs": [
    {
     "data": {
      "text/plain": [
       "3266.498227705472"
      ]
     },
     "execution_count": 18,
     "metadata": {},
     "output_type": "execute_result"
    }
   ],
   "source": [
    "len(aedges) * len(bedges) / (acdr3.shape[0] ** 2 // 2)"
   ]
  },
  {
   "cell_type": "markdown",
   "metadata": {
    "collapsed": true
   },
   "source": [
    "Lets look at the dependence of mismatch positions in alpha and beta."
   ]
  },
  {
   "cell_type": "code",
   "execution_count": 19,
   "metadata": {
    "collapsed": true
   },
   "outputs": [],
   "source": [
    "abmmpos = np.zeros((s, 2))"
   ]
  },
  {
   "cell_type": "code",
   "execution_count": 20,
   "metadata": {},
   "outputs": [
    {
     "data": {
      "text/plain": [
       "[84664]"
      ]
     },
     "execution_count": 20,
     "metadata": {},
     "output_type": "execute_result"
    }
   ],
   "source": [
    "i = 0\n",
    "for j in superadj[i]:\n",
    "    acdr3[i]"
   ]
  },
  {
   "cell_type": "code",
   "execution_count": 22,
   "metadata": {},
   "outputs": [
    {
     "data": {
      "text/plain": [
       "(array(['C', 'A', 'M', 'R', 'X', 'T', 'S', 'N', 'D', 'Y', 'K', 'L', 'S', 'X'],\n",
       "       dtype='<U1'),\n",
       " array(['C', 'A', 'M', 'R', 'X', 'V', 'S', 'N', 'D', 'Y', 'K', 'L', 'S', 'X'],\n",
       "       dtype='<U1'))"
      ]
     },
     "execution_count": 22,
     "metadata": {},
     "output_type": "execute_result"
    }
   ],
   "source": [
    "np.array(list(acdr3[0])), np.array(list(acdr3[84664]))"
   ]
  },
  {
   "cell_type": "code",
   "execution_count": null,
   "metadata": {
    "collapsed": true
   },
   "outputs": [],
   "source": []
  },
  {
   "cell_type": "code",
   "execution_count": null,
   "metadata": {
    "collapsed": true
   },
   "outputs": [],
   "source": []
  },
  {
   "cell_type": "code",
   "execution_count": null,
   "metadata": {
    "collapsed": true
   },
   "outputs": [],
   "source": []
  },
  {
   "cell_type": "code",
   "execution_count": null,
   "metadata": {
    "collapsed": true
   },
   "outputs": [],
   "source": []
  },
  {
   "cell_type": "code",
   "execution_count": null,
   "metadata": {
    "collapsed": true
   },
   "outputs": [],
   "source": []
  }
 ],
 "metadata": {
  "kernelspec": {
   "display_name": "Python 3",
   "language": "python",
   "name": "python3"
  },
  "language_info": {
   "codemirror_mode": {
    "name": "ipython",
    "version": 3
   },
   "file_extension": ".py",
   "mimetype": "text/x-python",
   "name": "python",
   "nbconvert_exporter": "python",
   "pygments_lexer": "ipython3",
   "version": "3.6.3"
  }
 },
 "nbformat": 4,
 "nbformat_minor": 2
}
