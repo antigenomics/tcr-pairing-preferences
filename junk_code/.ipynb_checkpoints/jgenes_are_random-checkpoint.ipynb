{
 "cells": [
  {
   "cell_type": "code",
   "execution_count": 1,
   "metadata": {
    "collapsed": true
   },
   "outputs": [],
   "source": [
    "import numpy as np\n",
    "import pandas as pd\n",
    "import matplotlib.pyplot as plt\n",
    "import seaborn as sns\n",
    "\n",
    "%matplotlib inline"
   ]
  },
  {
   "cell_type": "code",
   "execution_count": 2,
   "metadata": {
    "collapsed": true
   },
   "outputs": [],
   "source": [
    "data_pd = pd.read_csv('data/MergedData.csv', index_col=0)\n",
    "data_pd = data_pd.loc[data_pd['species'] == 'HomoSapiens']\n",
    "data_pd = data_pd.loc[data_pd['database'] == 'tcr_ab_pairs']\n",
    "data_pd.index = np.arange(data_pd.shape[0])"
   ]
  },
  {
   "cell_type": "code",
   "execution_count": 5,
   "metadata": {},
   "outputs": [],
   "source": [
    "data = data_pd.as_matrix()"
   ]
  },
  {
   "cell_type": "code",
   "execution_count": 7,
   "metadata": {},
   "outputs": [
    {
     "data": {
      "text/plain": [
       "Index(['database', 'species', 'sample', 'epitope', 'antigen', 'tissue',\n",
       "       'cell_subset', 'alpha.v', 'alpha.j', 'alpha.cdr3', 'beta.v', 'beta.d',\n",
       "       'beta.j', 'beta.cdr3'],\n",
       "      dtype='object')"
      ]
     },
     "execution_count": 7,
     "metadata": {},
     "output_type": "execute_result"
    }
   ],
   "source": [
    "data_pd.columns"
   ]
  },
  {
   "cell_type": "code",
   "execution_count": 10,
   "metadata": {},
   "outputs": [],
   "source": [
    "ajgenes, bjgenes = list(set(data_pd['alpha.j'])), list(set(data_pd['beta.j']))\n",
    "ajgene2i = {x:i for i, x in enumerate(ajgenes)}\n",
    "bjgene2i = {x:i for i, x in enumerate(bjgenes)}\n",
    "table = np.zeros((len(ajgenes), len(bjgenes)))\n",
    "for index in range(data.shape[0]):\n",
    "    agene, bgene = data[index, 8], data[index, 12]\n",
    "    table[ajgene2i[agene], bjgene2i[bgene]] += 1"
   ]
  },
  {
   "cell_type": "code",
   "execution_count": 11,
   "metadata": {
    "collapsed": true
   },
   "outputs": [],
   "source": [
    "xcompsum, ycompsum = np.sum(table, axis=1), np.sum(table, axis=0)\n",
    "expected = np.dot(xcompsum.reshape(-1, 1), ycompsum.reshape(1, -1)) / np.sum(table)"
   ]
  },
  {
   "cell_type": "code",
   "execution_count": 12,
   "metadata": {},
   "outputs": [
    {
     "data": {
      "text/plain": [
       "<matplotlib.collections.PathCollection at 0x1a2230a748>"
      ]
     },
     "execution_count": 12,
     "metadata": {},
     "output_type": "execute_result"
    },
    {
     "data": {
      "image/png": "[encoded data removed]",
      "text/plain": [
       "<matplotlib.figure.Figure at 0x1a1e0b43c8>"
      ]
     },
     "metadata": {},
     "output_type": "display_data"
    }
   ],
   "source": [
    "plt.scatter(expected, table)"
   ]
  },
  {
   "cell_type": "code",
   "execution_count": null,
   "metadata": {
    "collapsed": true
   },
   "outputs": [],
   "source": []
  }
 ],
 "metadata": {
  "kernelspec": {
   "display_name": "Python 3",
   "language": "python",
   "name": "python3"
  },
  "language_info": {
   "codemirror_mode": {
    "name": "ipython",
    "version": 3
   },
   "file_extension": ".py",
   "mimetype": "text/x-python",
   "name": "python",
   "nbconvert_exporter": "python",
   "pygments_lexer": "ipython3",
   "version": "3.6.3"
  }
 },
 "nbformat": 4,
 "nbformat_minor": 2
}
