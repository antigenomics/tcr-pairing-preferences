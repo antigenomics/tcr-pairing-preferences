{
 "cells": [
  {
   "cell_type": "code",
   "execution_count": 1,
   "metadata": {},
   "outputs": [],
   "source": [
    "import numpy as np\n",
    "import pandas as pd\n",
    "import matplotlib.pyplot as plt\n",
    "from sklearn.model_selection import train_test_split\n",
    "import seaborn as sns\n",
    "import itertools\n",
    "import networkx as nx\n",
    "from scipy.stats import poisson\n",
    "\n",
    "%matplotlib inline"
   ]
  },
  {
   "cell_type": "code",
   "execution_count": 2,
   "metadata": {},
   "outputs": [],
   "source": [
    "data_pd = pd.read_csv('data/MergedData.csv', index_col=0)\n",
    "data_pd = data_pd.loc[data_pd['species'] == 'HomoSapiens']\n",
    "data_pd = data_pd.loc[data_pd['database'] == 'tcr_ab_pairs']"
   ]
  },
  {
   "cell_type": "code",
   "execution_count": 3,
   "metadata": {},
   "outputs": [],
   "source": [
    "antiindex = np.zeros((1 + data_pd.index[-1]), dtype=int)\n",
    "for i, x in enumerate(data_pd.index):\n",
    "    antiindex[x] = i"
   ]
  },
  {
   "cell_type": "code",
   "execution_count": 4,
   "metadata": {},
   "outputs": [],
   "source": [
    "acdr3 = data_pd['alpha.cdr3'].values\n",
    "bcdr3 = data_pd['beta.cdr3'].values\n",
    "acdr3_length = np.array([len(x) for x in acdr3])\n",
    "bcdr3_length = np.array([len(x) for x in bcdr3])"
   ]
  },
  {
   "cell_type": "code",
   "execution_count": 5,
   "metadata": {},
   "outputs": [],
   "source": [
    "data = data_pd[['alpha.cdr3', 'beta.cdr3']].values\n",
    "alpha_ind = [5 < len(data[i, 0]) < 16 for i in range(data.shape[0])]\n",
    "beta_ind = [5 < len(data[i, 1]) < 16 for i in range(data.shape[0])]\n",
    "indexes = np.all([alpha_ind, beta_ind], axis=0)\n",
    "ldata = data[indexes]"
   ]
  },
  {
   "cell_type": "code",
   "execution_count": 6,
   "metadata": {},
   "outputs": [],
   "source": [
    "auseless_positions = {7: [6],\n",
    " 8: [2],\n",
    " 9: [1],\n",
    " 10: [4, 9],\n",
    " 11: [2, 4, 10],\n",
    " 12: [2, 11],\n",
    " 13: [4],\n",
    " 14: [4, 13],\n",
    " 15: [4],\n",
    " 16: [4, 5, 15],\n",
    " 17: [4, 6, 16],\n",
    " 18: [5, 6, 17],\n",
    " 19: [4]}\n",
    "\n",
    "buseless_positions = {7: [],\n",
    " 8: [],\n",
    " 9: [2],\n",
    " 10: [4, 9],\n",
    " 11: [4, 6],\n",
    " 12: [4, 11],\n",
    " 13: [4],\n",
    " 14: [4, 5, 6, 13],\n",
    " 15: [4, 14],\n",
    " 16: [4, 15],\n",
    " 17: [4, 16],\n",
    " 18: [7, 8, 11, 17],\n",
    " 19: []}"
   ]
  },
  {
   "cell_type": "code",
   "execution_count": 7,
   "metadata": {},
   "outputs": [],
   "source": [
    "acdr3f = np.zeros((acdr3.shape[0]), dtype=object)\n",
    "for i in range(acdr3.shape[0]):\n",
    "    arr = np.array(list(acdr3[i]))\n",
    "    if len(arr) in auseless_positions.keys():\n",
    "        arr[auseless_positions[len(arr)]] = 'X'\n",
    "    acdr3f[i] = ''.join(arr)\n",
    "    \n",
    "bcdr3f = np.zeros((bcdr3.shape[0]), dtype=object)\n",
    "for i in range(bcdr3.shape[0]):\n",
    "    arr = np.array(list(bcdr3[i]))\n",
    "    if len(arr) in buseless_positions.keys():\n",
    "        arr[buseless_positions[len(arr)]] = 'X'\n",
    "    bcdr3f[i] = ''.join(arr)\n",
    "\n",
    "acdr3 = acdr3f\n",
    "bcdr3 = bcdr3f"
   ]
  },
  {
   "cell_type": "code",
   "execution_count": 8,
   "metadata": {},
   "outputs": [],
   "source": [
    "def aapClusters(sequences, indexing, mmm=1, delimeter='*'):\n",
    "    l = len(sequences[0])\n",
    "    clusters = []\n",
    "    masks = itertools.combinations(np.arange(l), mmm)\n",
    "    for mask in masks:\n",
    "        mask = [-1] + list(mask) + [l]\n",
    "        masker = lambda x: delimeter.join([x[mask[i] + 1:mask[i + 1]] for i in range(mmm + 1)])\n",
    "        factor = set([masker(x) for x in sequences])\n",
    "        c = {m:[] for m in factor}\n",
    "        for i, x in enumerate(sequences):\n",
    "            c[masker(x)].append(indexing[i])\n",
    "        for m in factor:\n",
    "            if len(c[m]) > 1:\n",
    "                clusters.append(c[m])\n",
    "    return clusters\n",
    "\n",
    "def EdgeListfromClusters(n, clusters):\n",
    "    edges = set([])\n",
    "    for cluster in clusters:\n",
    "        for x, y in itertools.combinations(cluster, 2):\n",
    "            edges.add((x, y))\n",
    "    return list(edges)"
   ]
  },
  {
   "cell_type": "code",
   "execution_count": 9,
   "metadata": {},
   "outputs": [],
   "source": [
    "ldata = data[indexes]\n",
    "acdr3 = ldata[:, 0]\n",
    "bcdr3 = ldata[:, 1]\n",
    "acdr3_length = np.array([len(x) for x in acdr3])\n",
    "bcdr3_length = np.array([len(x) for x in bcdr3])"
   ]
  },
  {
   "cell_type": "code",
   "execution_count": 10,
   "metadata": {},
   "outputs": [],
   "source": [
    "aedges = []\n",
    "for l in range(6, 16):\n",
    "    indexes = np.arange(acdr3.shape[0])[acdr3_length == l]\n",
    "    a = acdr3[indexes]\n",
    "    clusters = aapClusters(a, indexes)\n",
    "    e = EdgeListfromClusters(acdr3.shape[0], clusters)\n",
    "    aedges += e\n",
    "\n",
    "bedges = []\n",
    "for l in range(6, 16):\n",
    "    indexes = np.arange(bcdr3.shape[0])[bcdr3_length == l]\n",
    "    b = bcdr3[indexes]\n",
    "    clusters = aapClusters(b, indexes)\n",
    "    e = EdgeListfromClusters(bcdr3.shape[0], clusters)\n",
    "    bedges += e"
   ]
  },
  {
   "cell_type": "code",
   "execution_count": 11,
   "metadata": {},
   "outputs": [],
   "source": [
    "Agraph = nx.Graph()\n",
    "Agraph.add_edges_from(aedges)\n",
    "acomponents = list(nx.connected_components(Agraph))\n",
    "\n",
    "Bgraph = nx.Graph()\n",
    "Bgraph.add_edges_from(bedges)\n",
    "bcomponents = list(nx.connected_components(Bgraph))"
   ]
  },
  {
   "cell_type": "code",
   "execution_count": 12,
   "metadata": {},
   "outputs": [],
   "source": [
    "a_in_cluster = np.zeros((ldata.shape[0]))\n",
    "for l in acomponents:\n",
    "    a_in_cluster[list(l)] = 1"
   ]
  },
  {
   "cell_type": "code",
   "execution_count": 13,
   "metadata": {},
   "outputs": [],
   "source": [
    "b_in_cluster = np.zeros((ldata.shape[0]))\n",
    "for l in bcomponents:\n",
    "    b_in_cluster[list(l)] = 1"
   ]
  },
  {
   "cell_type": "code",
   "execution_count": 21,
   "metadata": {},
   "outputs": [
    {
     "data": {
      "text/plain": [
       "(77647.0, 55273.0, 104461)"
      ]
     },
     "execution_count": 21,
     "metadata": {},
     "output_type": "execute_result"
    }
   ],
   "source": [
    "sum(a_in_cluster), sum(b_in_cluster), ldata.shape[0]"
   ]
  },
  {
   "cell_type": "code",
   "execution_count": 58,
   "metadata": {},
   "outputs": [
    {
     "data": {
      "text/plain": [
       "(3057, 5980)"
      ]
     },
     "execution_count": 58,
     "metadata": {},
     "output_type": "execute_result"
    }
   ],
   "source": [
    "train_min_size = ldata.shape[0]  // 2\n",
    "i = 0\n",
    "sa = 0\n",
    "aperm = np.random.permutation(len(acomponents), )\n",
    "while sa < train_min_size:\n",
    "    sa += len(acomponents[aperm[i]])\n",
    "    i += 1\n",
    "    \n",
    "train_min_size = ldata.shape[0] // 2\n",
    "j = 0\n",
    "sb = 0\n",
    "bperm = np.random.permutation(len(bcomponents))\n",
    "while sb < train_min_size:\n",
    "    sb += len(bcomponents[j])\n",
    "    j += 1\n",
    "i, j"
   ]
  },
  {
   "cell_type": "code",
   "execution_count": 59,
   "metadata": {},
   "outputs": [],
   "source": [
    "aindex_thr = i\n",
    "bindex_thr = j"
   ]
  },
  {
   "cell_type": "code",
   "execution_count": 60,
   "metadata": {},
   "outputs": [],
   "source": [
    "train_aindex = np.zeros((ldata.shape[0]))\n",
    "train_bindex = np.zeros((ldata.shape[0]))\n",
    "\n",
    "for i in range(aindex_thr):\n",
    "    train_aindex[list(acomponents[perm[i]])] = 1\n",
    "for i in range(bindex_thr):\n",
    "    train_bindex[list(bcomponents[i])] = 1"
   ]
  },
  {
   "cell_type": "code",
   "execution_count": 27,
   "metadata": {},
   "outputs": [],
   "source": [
    "train_bindex = 1 - train_bindex"
   ]
  },
  {
   "cell_type": "code",
   "execution_count": 61,
   "metadata": {},
   "outputs": [
    {
     "name": "stdout",
     "output_type": "stream",
     "text": [
      "28242 28476 23989 23754\n"
     ]
    }
   ],
   "source": [
    "print(np.sum(train_aindex * train_bindex > 0),\n",
    "      np.sum(train_aindex * (1-train_bindex) > 0),\n",
    "      np.sum((1-train_aindex) * train_bindex > 0),\n",
    "      np.sum((1-train_aindex) * (1-train_bindex) > 0))"
   ]
  },
  {
   "cell_type": "code",
   "execution_count": 45,
   "metadata": {},
   "outputs": [],
   "source": [
    "train_index = np.array((1 - train_aindex) * (1 - train_bindex), dtype=bool)\n",
    "test_index = np.array(train_aindex * train_bindex, dtype=bool)"
   ]
  },
  {
   "cell_type": "code",
   "execution_count": 30,
   "metadata": {},
   "outputs": [],
   "source": [
    "from sklearn.ensemble import RandomForestClassifier\n",
    "rf = RandomForestClassifier(n_estimators=20)"
   ]
  },
  {
   "cell_type": "code",
   "execution_count": 31,
   "metadata": {},
   "outputs": [],
   "source": [
    "aa = ['A', 'C', 'D', 'E', 'F', 'G', 'H', 'I', 'K', 'L', 'M', 'N', 'P', 'Q', 'R', 'S', 'T', 'V', 'W', 'Y', '_']\n",
    "aa2num_table = {aa[i]:i for i in range(21)}\n",
    "\n",
    "def aa2num(aa):\n",
    "    return aa2num_table[aa]\n",
    "\n",
    "def protein2array(protein):\n",
    "    return np.array([aa2num(aa) for aa in protein])"
   ]
  },
  {
   "cell_type": "code",
   "execution_count": 35,
   "metadata": {},
   "outputs": [],
   "source": [
    "def standartize_cdr3_length(protein):\n",
    "    insertion_places = {6:3, 7:4, 8:4, 9:5, 10:5, 11:6, 12:6, 13:7, 14:7, 15:8}\n",
    "    insertion_place = insertion_places[len(protein)]\n",
    "    insertion_length = 15 - len(protein)\n",
    "    return protein[:insertion_place] + '_' * insertion_length + protein[insertion_place:]"
   ]
  },
  {
   "cell_type": "code",
   "execution_count": 38,
   "metadata": {},
   "outputs": [],
   "source": [
    "for i in range(ldata.shape[0]):\n",
    "    ldata[i, 0] = standartize_cdr3_length(ldata[i, 0])\n",
    "    ldata[i, 1] = standartize_cdr3_length(ldata[i, 1])"
   ]
  },
  {
   "cell_type": "code",
   "execution_count": 47,
   "metadata": {},
   "outputs": [],
   "source": [
    "for i in range(ldata.shape[0]):\n",
    "    ldata[i, 0] = protein2array(ldata[i, 0])\n",
    "    ldata[i, 1] = protein2array(ldata[i, 1])"
   ]
  },
  {
   "cell_type": "code",
   "execution_count": 48,
   "metadata": {},
   "outputs": [],
   "source": [
    "def GetPairSampling(A, B):\n",
    "    assert A.shape[0] % 2 == 0\n",
    "    X = np.zeros((2 * A.shape[0], A.shape[1] + B.shape[1]))\n",
    "    X[::2, :A.shape[1]] = A\n",
    "    X[1::2, :A.shape[1]] = A\n",
    "    X[::2, A.shape[1]:] = B\n",
    "    X[1::4, A.shape[1]:] = B[1::2]\n",
    "    X[3::4, A.shape[1]:] = B[::2]\n",
    "    \n",
    "    y = np.zeros((2 * A.shape[0]))\n",
    "    y[::2] = 1\n",
    "    \n",
    "    return X, y"
   ]
  },
  {
   "cell_type": "code",
   "execution_count": 53,
   "metadata": {},
   "outputs": [],
   "source": [
    "A = np.array([list(x) for x in ldata[:, 0]])\n",
    "B = np.array([list(x) for x in ldata[:, 1]])"
   ]
  },
  {
   "cell_type": "code",
   "execution_count": 62,
   "metadata": {},
   "outputs": [],
   "source": [
    "# train_index, test_index = train_test_split(np.arange(A.shape[0]))\n",
    "train_size, test_size = train_index.shape[0], test_index.shape[0]\n",
    "\n",
    "X_train, y_train = GetPairSampling(A[train_index], B[train_index])\n",
    "X_test, y_test = GetPairSampling(A[test_index], B[test_index])\n",
    "\n",
    "rf = RandomForestClassifier(n_estimators=25)\n",
    "rf.fit(X_train, y_train)\n",
    "y_pred = rf.predict(X_test)\n",
    "score = y_pred == y_test"
   ]
  },
  {
   "cell_type": "code",
   "execution_count": 63,
   "metadata": {},
   "outputs": [
    {
     "data": {
      "text/plain": [
       "0.5009722434039957"
      ]
     },
     "execution_count": 63,
     "metadata": {},
     "output_type": "execute_result"
    }
   ],
   "source": [
    "sum(score) / score.shape[0]"
   ]
  },
  {
   "cell_type": "code",
   "execution_count": null,
   "metadata": {},
   "outputs": [],
   "source": []
  }
 ],
 "metadata": {
  "kernelspec": {
   "display_name": "Python 3",
   "language": "python",
   "name": "python3"
  },
  "language_info": {
   "codemirror_mode": {
    "name": "ipython",
    "version": 3
   },
   "file_extension": ".py",
   "mimetype": "text/x-python",
   "name": "python",
   "nbconvert_exporter": "python",
   "pygments_lexer": "ipython3",
   "version": "3.6.5"
  }
 },
 "nbformat": 4,
 "nbformat_minor": 2
}
