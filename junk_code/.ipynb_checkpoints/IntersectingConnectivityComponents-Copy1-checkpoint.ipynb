{
 "cells": [
  {
   "cell_type": "code",
   "execution_count": 1,
   "metadata": {
    "collapsed": true
   },
   "outputs": [],
   "source": [
    "import numpy as np\n",
    "import pandas as pd\n",
    "import matplotlib.pyplot as plt\n",
    "from sklearn.model_selection import train_test_split\n",
    "import seaborn as sns\n",
    "import itertools\n",
    "import networkx as nx\n",
    "\n",
    "%matplotlib inline"
   ]
  },
  {
   "cell_type": "code",
   "execution_count": 2,
   "metadata": {
    "collapsed": true
   },
   "outputs": [],
   "source": [
    "data_pd = pd.read_csv('data/MergedData.csv', index_col=0)\n",
    "data_pd = data_pd.loc[data_pd['species'] == 'HomoSapiens']\n",
    "data_pd = data_pd.loc[data_pd['database'] == 'tcr_ab_pairs']\n",
    "data_pd.index = np.arange(data_pd.shape[0])"
   ]
  },
  {
   "cell_type": "code",
   "execution_count": 330,
   "metadata": {
    "collapsed": true
   },
   "outputs": [],
   "source": [
    "data_pd = pd.read_csv('data/MergedData.csv', index_col=0)\n",
    "data_pd = data_pd.loc[data_pd['species'] == 'HomoSapiens']"
   ]
  },
  {
   "cell_type": "code",
   "execution_count": 3,
   "metadata": {
    "collapsed": true
   },
   "outputs": [],
   "source": [
    "acdr3 = data_pd['alpha.cdr3'].as_matrix()\n",
    "bcdr3 = data_pd['beta.cdr3'].as_matrix()\n",
    "acdr3_length = np.array([len(x) for x in acdr3])\n",
    "bcdr3_length = np.array([len(x) for x in bcdr3])"
   ]
  },
  {
   "cell_type": "code",
   "execution_count": 4,
   "metadata": {
    "collapsed": true
   },
   "outputs": [],
   "source": [
    "auseless_positions = {7: [6],\n",
    " 8: [2],\n",
    " 9: [1],\n",
    " 10: [4, 9],\n",
    " 11: [2, 4, 10],\n",
    " 12: [2, 11],\n",
    " 13: [4],\n",
    " 14: [4, 13],\n",
    " 15: [4],\n",
    " 16: [4, 5, 15],\n",
    " 17: [4, 6, 16],\n",
    " 18: [5, 6, 17],\n",
    " 19: [4]}\n",
    "\n",
    "buseless_positions = {7: [],\n",
    " 8: [],\n",
    " 9: [2],\n",
    " 10: [4, 9],\n",
    " 11: [4, 6],\n",
    " 12: [4, 11],\n",
    " 13: [4],\n",
    " 14: [4, 5, 6, 13],\n",
    " 15: [4, 14],\n",
    " 16: [4, 15],\n",
    " 17: [4, 16],\n",
    " 18: [7, 8, 11, 17],\n",
    " 19: []}"
   ]
  },
  {
   "cell_type": "code",
   "execution_count": 5,
   "metadata": {
    "collapsed": true
   },
   "outputs": [],
   "source": [
    "acdr3f = np.zeros((acdr3.shape[0]), dtype=object)\n",
    "for i in range(acdr3.shape[0]):\n",
    "    arr = np.array(list(acdr3[i]))\n",
    "    if len(arr) in auseless_positions.keys():\n",
    "        arr[auseless_positions[len(arr)]] = 'X'\n",
    "    acdr3f[i] = ''.join(arr)\n",
    "    \n",
    "bcdr3f = np.zeros((bcdr3.shape[0]), dtype=object)\n",
    "for i in range(bcdr3.shape[0]):\n",
    "    arr = np.array(list(bcdr3[i]))\n",
    "    if len(arr) in buseless_positions.keys():\n",
    "        arr[buseless_positions[len(arr)]] = 'X'\n",
    "    bcdr3f[i] = ''.join(arr)\n",
    "\n",
    "acdr3 = acdr3f\n",
    "bcdr3 = bcdr3f"
   ]
  },
  {
   "cell_type": "code",
   "execution_count": 6,
   "metadata": {
    "collapsed": true
   },
   "outputs": [],
   "source": [
    "def aapClusters(sequences, indexing, mmm=1, delimeter='*'):\n",
    "    l = len(sequences[0])\n",
    "    clusters = []\n",
    "    masks = itertools.combinations(np.arange(l), mmm)\n",
    "    for mask in masks:\n",
    "        mask = [-1] + list(mask) + [l]\n",
    "        masker = lambda x: delimeter.join([x[mask[i] + 1:mask[i + 1]] for i in range(mmm + 1)])\n",
    "        factor = set([masker(x) for x in sequences])\n",
    "        c = {m:[] for m in factor}\n",
    "        for i, x in enumerate(sequences):\n",
    "            c[masker(x)].append(indexing[i])\n",
    "        for m in factor:\n",
    "            if len(c[m]) > 1:\n",
    "                clusters.append(c[m])\n",
    "    return clusters\n",
    "\n",
    "def EdgeListfromClusters(n, clusters):\n",
    "    edges = set([])\n",
    "    for cluster in clusters:\n",
    "        for x, y in itertools.combinations(cluster, 2):\n",
    "            edges.add((x, y))\n",
    "    return list(edges)"
   ]
  },
  {
   "cell_type": "code",
   "execution_count": 7,
   "metadata": {
    "collapsed": true
   },
   "outputs": [],
   "source": [
    "aedges = []\n",
    "for l in range(6, 20):\n",
    "    indexes = np.arange(acdr3.shape[0])[acdr3_length == l]\n",
    "    a = acdr3[indexes]\n",
    "    clusters = aapClusters(a, indexes)\n",
    "    e = EdgeListfromClusters(acdr3.shape[0], clusters)\n",
    "    aedges += e\n",
    "\n",
    "bedges = []\n",
    "for l in range(6, 20):\n",
    "    indexes = np.arange(bcdr3.shape[0])[bcdr3_length == l]\n",
    "    b = bcdr3[indexes]\n",
    "    clusters = aapClusters(b, indexes)\n",
    "    e = EdgeListfromClusters(bcdr3.shape[0], clusters)\n",
    "    bedges += e"
   ]
  },
  {
   "cell_type": "code",
   "execution_count": 82,
   "metadata": {
    "collapsed": true
   },
   "outputs": [],
   "source": [
    "aadj = [[] for i in range(acdr3.shape[0])]\n",
    "badj = [[] for i in range(acdr3.shape[0])]\n",
    "\n",
    "for i in aedges:\n",
    "    aadj[i[0]].append(i[1])\n",
    "    aadj[i[1]].append(i[0])\n",
    "\n",
    "for i in bedges:\n",
    "    badj[i[0]].append(i[1])\n",
    "    badj[i[1]].append(i[0])"
   ]
  },
  {
   "cell_type": "code",
   "execution_count": 9,
   "metadata": {
    "collapsed": true
   },
   "outputs": [],
   "source": [
    "superadj = [list(set(aadj[i]) & set(badj[i]))for i in range(acdr3.shape[0])]"
   ]
  },
  {
   "cell_type": "code",
   "execution_count": 11,
   "metadata": {},
   "outputs": [
    {
     "data": {
      "text/plain": [
       "11870"
      ]
     },
     "execution_count": 11,
     "metadata": {},
     "output_type": "execute_result"
    }
   ],
   "source": [
    "s = 0\n",
    "for i in superadj:\n",
    "    s += len(i)\n",
    "s"
   ]
  },
  {
   "cell_type": "code",
   "execution_count": 12,
   "metadata": {},
   "outputs": [
    {
     "data": {
      "text/plain": [
       "3266.498227705472"
      ]
     },
     "execution_count": 12,
     "metadata": {},
     "output_type": "execute_result"
    }
   ],
   "source": [
    "len(aedges) * len(bedges) / (acdr3.shape[0] ** 2 // 2)"
   ]
  },
  {
   "cell_type": "code",
   "execution_count": 86,
   "metadata": {},
   "outputs": [],
   "source": [
    "superdeg = np.array([len(x) for x in superadj])\n",
    "multdeg = np.array([len(aadj[i]) * len(badj[i]) for i in range(acdr3.shape[0])])"
   ]
  },
  {
   "cell_type": "code",
   "execution_count": 88,
   "metadata": {},
   "outputs": [
    {
     "data": {
      "text/plain": [
       "(1012860, 9)"
      ]
     },
     "execution_count": 88,
     "metadata": {},
     "output_type": "execute_result"
    }
   ],
   "source": [
    "max(multdeg), max(superdeg)"
   ]
  },
  {
   "cell_type": "code",
   "execution_count": 104,
   "metadata": {},
   "outputs": [],
   "source": [
    "superratio = sum(superdeg) / sum(multdeg)"
   ]
  },
  {
   "cell_type": "code",
   "execution_count": 142,
   "metadata": {},
   "outputs": [
    {
     "data": {
      "text/plain": [
       "9"
      ]
     },
     "execution_count": 142,
     "metadata": {},
     "output_type": "execute_result"
    }
   ],
   "source": [
    "e = superratio * multdeg\n",
    "plusz = np.max([np.zeros((acdr3.shape[0])), superdeg - e], axis=0)\n",
    "z = plusz ** 2 / (e + 1)\n",
    "np.sum(z > 50)"
   ]
  },
  {
   "cell_type": "code",
   "execution_count": 183,
   "metadata": {
    "collapsed": true
   },
   "outputs": [],
   "source": [
    "aa = ['A', 'C', 'D', 'E', 'F', 'G', 'H', 'I', 'K', 'L', 'M', 'N', 'P', 'Q', 'R', 'S', 'T', 'V', 'W', 'Y', 'X']\n",
    "aa2num = {aa[i]:i for i in range(21)}\n",
    "\n",
    "class PWM:\n",
    "    def __init__(self, sequences):\n",
    "        assert len(sequences) > 0\n",
    "        self.l = len(sequences[0])\n",
    "        PPM = np.ones((self.l, 21), dtype=float)\n",
    "        for seq in sequences:\n",
    "            assert len(seq) == self.l\n",
    "            for pos in range(self.l):\n",
    "                PPM[pos, aa2num[seq[pos]]] += 1\n",
    "        self.PWM = np.log2(PPM)\n",
    "    \n",
    "    def Score(self, seq):\n",
    "        assert self.l == len(seq)\n",
    "        return sum([self.PWM[pos, aa2num[seq[pos]]] for pos in range(self.l)])"
   ]
  },
  {
   "cell_type": "code",
   "execution_count": 294,
   "metadata": {},
   "outputs": [
    {
     "data": {
      "text/plain": [
       "(7203, 8)"
      ]
     },
     "execution_count": 294,
     "metadata": {},
     "output_type": "execute_result"
    }
   ],
   "source": [
    "multdeg[ind], superdeg[ind]"
   ]
  },
  {
   "cell_type": "code",
   "execution_count": 357,
   "metadata": {},
   "outputs": [
    {
     "data": {
      "text/plain": [
       "18048"
      ]
     },
     "execution_count": 357,
     "metadata": {},
     "output_type": "execute_result"
    }
   ],
   "source": [
    "ind = np.where(z > 50)[0][0]\n",
    "ind"
   ]
  },
  {
   "cell_type": "code",
   "execution_count": 358,
   "metadata": {},
   "outputs": [],
   "source": [
    "pwm_a = PWM([acdr3[ind]])\n",
    "pwm_b = PWM([bcdr3[ind]])"
   ]
  },
  {
   "cell_type": "code",
   "execution_count": 359,
   "metadata": {
    "collapsed": true
   },
   "outputs": [],
   "source": [
    "indexes = [(len(acdr3[j]) == len(acdr3[ind])) & \n",
    "           (len(bcdr3[j]) == len(bcdr3[ind])) for j in range(acdr3.shape[0])]\n",
    "acdr3i = acdr3[indexes]\n",
    "bcdr3i = bcdr3[indexes]"
   ]
  },
  {
   "cell_type": "code",
   "execution_count": 360,
   "metadata": {},
   "outputs": [],
   "source": [
    "ascores = np.array([pwm_a.Score(a) for a in acdr3i])\n",
    "bscores = np.array([pwm_b.Score(b) for b in bcdr3i])\n",
    "\n",
    "ascores = ascores - ascores[indi]\n",
    "bscores = bscores - bscores[indi]"
   ]
  },
  {
   "cell_type": "code",
   "execution_count": 361,
   "metadata": {},
   "outputs": [],
   "source": [
    "indi = list(set(np.where(acdr3i==acdr3[i])[0]) & set(np.where(bcdr3i==bcdr3[i])[0]))[0]"
   ]
  },
  {
   "cell_type": "code",
   "execution_count": 308,
   "metadata": {},
   "outputs": [],
   "source": []
  },
  {
   "cell_type": "code",
   "execution_count": 363,
   "metadata": {},
   "outputs": [
    {
     "data": {
      "text/plain": [
       "(67, 66, 11, 1564, 3.8905472636815919)"
      ]
     },
     "execution_count": 363,
     "metadata": {},
     "output_type": "execute_result"
    }
   ],
   "source": [
    "athr, bthr = -3, -3\n",
    "indx = np.array(list(set(np.where(ascores > athr)[0]) & set(np.where(bscores > bthr)[0])))\n",
    "score = (indx.shape[0] * acdr3i.shape[0]) / (np.sum(ascores > athr) * np.sum(bscores > bthr))\n",
    "np.sum(ascores > athr), np.sum(bscores > bthr), indx.shape[0], acdr3i.shape[0], score"
   ]
  },
  {
   "cell_type": "code",
   "execution_count": 327,
   "metadata": {},
   "outputs": [],
   "source": [
    "W = data_pd.loc[indx]"
   ]
  },
  {
   "cell_type": "code",
   "execution_count": null,
   "metadata": {},
   "outputs": [],
   "source": []
  },
  {
   "cell_type": "code",
   "execution_count": null,
   "metadata": {
    "collapsed": true
   },
   "outputs": [],
   "source": []
  },
  {
   "cell_type": "code",
   "execution_count": 235,
   "metadata": {
    "collapsed": true
   },
   "outputs": [],
   "source": [
    "memmory_a_2 = np.copy(indexes_list[np.where(ascores > -3)[0]])\n",
    "memmory_b_2 = np.copy(indexes_list[np.where(bscores > -3)[0]])"
   ]
  },
  {
   "cell_type": "code",
   "execution_count": 306,
   "metadata": {},
   "outputs": [],
   "source": [
    "pwm_a = PWM(acdr3i[indx])\n",
    "pwm_b = PWM(bcdr3i[indx])"
   ]
  },
  {
   "cell_type": "code",
   "execution_count": 337,
   "metadata": {},
   "outputs": [
    {
     "data": {
      "text/plain": [
       "(array(['CVXPXGQNFVX', 'CVXVXGQNFVX', 'CVXLXGQNFVX', 'CVXSXGQNFVX',\n",
       "        'CVXSXGQNFVX', 'CVXVXGQNFVX', 'CVXNXGQNFVX', 'CVXLXGQNFVX',\n",
       "        'CVXGXGQNFVX'], dtype=object),\n",
       " array(['CASSXDGNYGYTF', 'CASSXDGNYGYTF', 'CASSXGPNYGYTF', 'CASSXDGNYGYTF',\n",
       "        'CASSXDPNYGYTF', 'CASSXDPNYGYTF', 'CASSXDGNYGYTF', 'CASSXDGNYGYTF',\n",
       "        'CASSXDPNYGYTF'], dtype=object))"
      ]
     },
     "execution_count": 337,
     "metadata": {},
     "output_type": "execute_result"
    }
   ],
   "source": [
    "acdr3[indexes_list[indx]], bcdr3[indexes_list[indx]]"
   ]
  },
  {
   "cell_type": "code",
   "execution_count": 231,
   "metadata": {
    "scrolled": true
   },
   "outputs": [
    {
     "data": {
      "text/plain": [
       "array([    57,    317,    376, ..., 169308, 169368, 169521])"
      ]
     },
     "execution_count": 231,
     "metadata": {},
     "output_type": "execute_result"
    }
   ],
   "source": [
    "indexes_list = np.where(indexes)[0]"
   ]
  },
  {
   "cell_type": "code",
   "execution_count": 225,
   "metadata": {},
   "outputs": [],
   "source": [
    "ind2full = {x:i for i, x in enumerate(np.where(indexes)[0])}"
   ]
  },
  {
   "cell_type": "code",
   "execution_count": 228,
   "metadata": {},
   "outputs": [
    {
     "data": {
      "text/plain": [
       "188"
      ]
     },
     "execution_count": 228,
     "metadata": {},
     "output_type": "execute_result"
    }
   ],
   "source": [
    "ind2full[ind]"
   ]
  },
  {
   "cell_type": "code",
   "execution_count": 290,
   "metadata": {},
   "outputs": [
    {
     "data": {
      "text/plain": [
       "array([ 18048,  89920, 118403, 155961,  35720,  64398,  26329,  35001,\n",
       "       157116,  94718])"
      ]
     },
     "execution_count": 290,
     "metadata": {},
     "output_type": "execute_result"
    }
   ],
   "source": [
    "memmory_1 = np.array(list(set(memmory_a_1) & set(memmory_b_1)))\n",
    "memmory_1"
   ]
  },
  {
   "cell_type": "code",
   "execution_count": 329,
   "metadata": {},
   "outputs": [
    {
     "data": {
      "text/html": [
       "<div>\n",
       "<style>\n",
       "    .dataframe thead tr:only-child th {\n",
       "        text-align: right;\n",
       "    }\n",
       "\n",
       "    .dataframe thead th {\n",
       "        text-align: left;\n",
       "    }\n",
       "\n",
       "    .dataframe tbody tr th {\n",
       "        vertical-align: top;\n",
       "    }\n",
       "</style>\n",
       "<table border=\"1\" class=\"dataframe\">\n",
       "  <thead>\n",
       "    <tr style=\"text-align: right;\">\n",
       "      <th></th>\n",
       "      <th>database</th>\n",
       "      <th>species</th>\n",
       "      <th>sample</th>\n",
       "      <th>epitope</th>\n",
       "      <th>antigen</th>\n",
       "      <th>tissue</th>\n",
       "      <th>cell_subset</th>\n",
       "      <th>alpha.v</th>\n",
       "      <th>alpha.j</th>\n",
       "      <th>alpha.cdr3</th>\n",
       "      <th>beta.v</th>\n",
       "      <th>beta.d</th>\n",
       "      <th>beta.j</th>\n",
       "      <th>beta.cdr3</th>\n",
       "    </tr>\n",
       "  </thead>\n",
       "  <tbody>\n",
       "    <tr>\n",
       "      <th>18048</th>\n",
       "      <td>tcr_ab_pairs</td>\n",
       "      <td>HomoSapiens</td>\n",
       "      <td>3</td>\n",
       "      <td>NaN</td>\n",
       "      <td>NaN</td>\n",
       "      <td>NaN</td>\n",
       "      <td>NaN</td>\n",
       "      <td>TRAV12-1</td>\n",
       "      <td>TRAJ26</td>\n",
       "      <td>CVVLYGQNFVF</td>\n",
       "      <td>TRBV5-4,TRBV5-8</td>\n",
       "      <td>NaN</td>\n",
       "      <td>TRBJ1-2</td>\n",
       "      <td>CASSPDGNYGYTF</td>\n",
       "    </tr>\n",
       "    <tr>\n",
       "      <th>89920</th>\n",
       "      <td>tcr_ab_pairs</td>\n",
       "      <td>HomoSapiens</td>\n",
       "      <td>3</td>\n",
       "      <td>NaN</td>\n",
       "      <td>NaN</td>\n",
       "      <td>NaN</td>\n",
       "      <td>NaN</td>\n",
       "      <td>TRAV12-1</td>\n",
       "      <td>TRAJ26</td>\n",
       "      <td>CVGVYGQNFVF</td>\n",
       "      <td>TRBV9</td>\n",
       "      <td>NaN</td>\n",
       "      <td>TRBJ1-2</td>\n",
       "      <td>CASSEDPNYGYTF</td>\n",
       "    </tr>\n",
       "    <tr>\n",
       "      <th>118403</th>\n",
       "      <td>tcr_ab_pairs</td>\n",
       "      <td>HomoSapiens</td>\n",
       "      <td>3</td>\n",
       "      <td>NaN</td>\n",
       "      <td>NaN</td>\n",
       "      <td>NaN</td>\n",
       "      <td>NaN</td>\n",
       "      <td>TRAV12-1</td>\n",
       "      <td>TRAJ26</td>\n",
       "      <td>CVGNYGQNFVF</td>\n",
       "      <td>TRBV4-1</td>\n",
       "      <td>NaN</td>\n",
       "      <td>TRBJ1-2</td>\n",
       "      <td>CASSQDGNYGYTF</td>\n",
       "    </tr>\n",
       "    <tr>\n",
       "      <th>155961</th>\n",
       "      <td>tcr_ab_pairs</td>\n",
       "      <td>HomoSapiens</td>\n",
       "      <td>3</td>\n",
       "      <td>NaN</td>\n",
       "      <td>NaN</td>\n",
       "      <td>NaN</td>\n",
       "      <td>NaN</td>\n",
       "      <td>TRAV12-1</td>\n",
       "      <td>TRAJ26</td>\n",
       "      <td>CVVSYGQNFVF</td>\n",
       "      <td>TRBV15</td>\n",
       "      <td>NaN</td>\n",
       "      <td>TRBJ1-2</td>\n",
       "      <td>CATSRDGNYGYTF</td>\n",
       "    </tr>\n",
       "    <tr>\n",
       "      <th>35720</th>\n",
       "      <td>tcr_ab_pairs</td>\n",
       "      <td>HomoSapiens</td>\n",
       "      <td>3</td>\n",
       "      <td>NaN</td>\n",
       "      <td>NaN</td>\n",
       "      <td>NaN</td>\n",
       "      <td>NaN</td>\n",
       "      <td>TRAV12-1,TRAV12-3</td>\n",
       "      <td>TRAJ26</td>\n",
       "      <td>CVAPYGQNFVF</td>\n",
       "      <td>TRBV9</td>\n",
       "      <td>NaN</td>\n",
       "      <td>TRBJ1-2</td>\n",
       "      <td>CASSVDGNYGYTF</td>\n",
       "    </tr>\n",
       "    <tr>\n",
       "      <th>64398</th>\n",
       "      <td>tcr_ab_pairs</td>\n",
       "      <td>HomoSapiens</td>\n",
       "      <td>2</td>\n",
       "      <td>NaN</td>\n",
       "      <td>NaN</td>\n",
       "      <td>NaN</td>\n",
       "      <td>NaN</td>\n",
       "      <td>TRAV12-1</td>\n",
       "      <td>TRAJ26</td>\n",
       "      <td>CVVGYGQNFVF</td>\n",
       "      <td>TRBV9</td>\n",
       "      <td>NaN</td>\n",
       "      <td>TRBJ1-2</td>\n",
       "      <td>CASSVDPNYGYTF</td>\n",
       "    </tr>\n",
       "    <tr>\n",
       "      <th>26329</th>\n",
       "      <td>tcr_ab_pairs</td>\n",
       "      <td>HomoSapiens</td>\n",
       "      <td>3,2</td>\n",
       "      <td>NaN</td>\n",
       "      <td>NaN</td>\n",
       "      <td>NaN</td>\n",
       "      <td>NaN</td>\n",
       "      <td>TRAV12-1</td>\n",
       "      <td>TRAJ26</td>\n",
       "      <td>CVSSYGQNFVF</td>\n",
       "      <td>TRBV9</td>\n",
       "      <td>NaN</td>\n",
       "      <td>TRBJ1-2</td>\n",
       "      <td>CASSVDPNYGYTF</td>\n",
       "    </tr>\n",
       "    <tr>\n",
       "      <th>35001</th>\n",
       "      <td>tcr_ab_pairs</td>\n",
       "      <td>HomoSapiens</td>\n",
       "      <td>3,2</td>\n",
       "      <td>NaN</td>\n",
       "      <td>NaN</td>\n",
       "      <td>NaN</td>\n",
       "      <td>NaN</td>\n",
       "      <td>TRAV12-3</td>\n",
       "      <td>TRAJ26</td>\n",
       "      <td>CVEVYGQNFVF</td>\n",
       "      <td>TRBV4-1,TRBV4-3,TRBV4-2,TRBV4-1,TRBV4-3</td>\n",
       "      <td>NaN</td>\n",
       "      <td>TRBJ1-2</td>\n",
       "      <td>CASSQDGNYGYTF</td>\n",
       "    </tr>\n",
       "    <tr>\n",
       "      <th>157116</th>\n",
       "      <td>tcr_ab_pairs</td>\n",
       "      <td>HomoSapiens</td>\n",
       "      <td>3</td>\n",
       "      <td>NaN</td>\n",
       "      <td>NaN</td>\n",
       "      <td>NaN</td>\n",
       "      <td>NaN</td>\n",
       "      <td>TRAV12-1</td>\n",
       "      <td>TRAJ26</td>\n",
       "      <td>CVVSYGQNFVF</td>\n",
       "      <td>TRBV4-1,TRBV4-3</td>\n",
       "      <td>NaN</td>\n",
       "      <td>TRBJ1-2</td>\n",
       "      <td>CASSQDGNYGYTF</td>\n",
       "    </tr>\n",
       "    <tr>\n",
       "      <th>94718</th>\n",
       "      <td>tcr_ab_pairs</td>\n",
       "      <td>HomoSapiens</td>\n",
       "      <td>3</td>\n",
       "      <td>NaN</td>\n",
       "      <td>NaN</td>\n",
       "      <td>NaN</td>\n",
       "      <td>NaN</td>\n",
       "      <td>TRAV12-1</td>\n",
       "      <td>TRAJ26</td>\n",
       "      <td>CVVLYGQNFVF</td>\n",
       "      <td>TRBV5-4,TRBV5-8</td>\n",
       "      <td>TRBD2,TRBD1</td>\n",
       "      <td>TRBJ1-2</td>\n",
       "      <td>CASSQGPNYGYTF</td>\n",
       "    </tr>\n",
       "  </tbody>\n",
       "</table>\n",
       "</div>"
      ],
      "text/plain": [
       "            database      species sample epitope antigen tissue cell_subset  \\\n",
       "18048   tcr_ab_pairs  HomoSapiens      3     NaN     NaN    NaN         NaN   \n",
       "89920   tcr_ab_pairs  HomoSapiens      3     NaN     NaN    NaN         NaN   \n",
       "118403  tcr_ab_pairs  HomoSapiens      3     NaN     NaN    NaN         NaN   \n",
       "155961  tcr_ab_pairs  HomoSapiens      3     NaN     NaN    NaN         NaN   \n",
       "35720   tcr_ab_pairs  HomoSapiens      3     NaN     NaN    NaN         NaN   \n",
       "64398   tcr_ab_pairs  HomoSapiens      2     NaN     NaN    NaN         NaN   \n",
       "26329   tcr_ab_pairs  HomoSapiens    3,2     NaN     NaN    NaN         NaN   \n",
       "35001   tcr_ab_pairs  HomoSapiens    3,2     NaN     NaN    NaN         NaN   \n",
       "157116  tcr_ab_pairs  HomoSapiens      3     NaN     NaN    NaN         NaN   \n",
       "94718   tcr_ab_pairs  HomoSapiens      3     NaN     NaN    NaN         NaN   \n",
       "\n",
       "                  alpha.v alpha.j   alpha.cdr3  \\\n",
       "18048            TRAV12-1  TRAJ26  CVVLYGQNFVF   \n",
       "89920            TRAV12-1  TRAJ26  CVGVYGQNFVF   \n",
       "118403           TRAV12-1  TRAJ26  CVGNYGQNFVF   \n",
       "155961           TRAV12-1  TRAJ26  CVVSYGQNFVF   \n",
       "35720   TRAV12-1,TRAV12-3  TRAJ26  CVAPYGQNFVF   \n",
       "64398            TRAV12-1  TRAJ26  CVVGYGQNFVF   \n",
       "26329            TRAV12-1  TRAJ26  CVSSYGQNFVF   \n",
       "35001            TRAV12-3  TRAJ26  CVEVYGQNFVF   \n",
       "157116           TRAV12-1  TRAJ26  CVVSYGQNFVF   \n",
       "94718            TRAV12-1  TRAJ26  CVVLYGQNFVF   \n",
       "\n",
       "                                         beta.v       beta.d   beta.j  \\\n",
       "18048                           TRBV5-4,TRBV5-8          NaN  TRBJ1-2   \n",
       "89920                                     TRBV9          NaN  TRBJ1-2   \n",
       "118403                                  TRBV4-1          NaN  TRBJ1-2   \n",
       "155961                                   TRBV15          NaN  TRBJ1-2   \n",
       "35720                                     TRBV9          NaN  TRBJ1-2   \n",
       "64398                                     TRBV9          NaN  TRBJ1-2   \n",
       "26329                                     TRBV9          NaN  TRBJ1-2   \n",
       "35001   TRBV4-1,TRBV4-3,TRBV4-2,TRBV4-1,TRBV4-3          NaN  TRBJ1-2   \n",
       "157116                          TRBV4-1,TRBV4-3          NaN  TRBJ1-2   \n",
       "94718                           TRBV5-4,TRBV5-8  TRBD2,TRBD1  TRBJ1-2   \n",
       "\n",
       "            beta.cdr3  \n",
       "18048   CASSPDGNYGYTF  \n",
       "89920   CASSEDPNYGYTF  \n",
       "118403  CASSQDGNYGYTF  \n",
       "155961  CATSRDGNYGYTF  \n",
       "35720   CASSVDGNYGYTF  \n",
       "64398   CASSVDPNYGYTF  \n",
       "26329   CASSVDPNYGYTF  \n",
       "35001   CASSQDGNYGYTF  \n",
       "157116  CASSQDGNYGYTF  \n",
       "94718   CASSQGPNYGYTF  "
      ]
     },
     "execution_count": 329,
     "metadata": {},
     "output_type": "execute_result"
    }
   ],
   "source": [
    "Q = data_pd.loc[memmory_1]\n",
    "Q"
   ]
  },
  {
   "cell_type": "code",
   "execution_count": 364,
   "metadata": {},
   "outputs": [],
   "source": [
    "alpha = data_pd['alpha.cdr3']\n",
    "beta = data_pd['beta.cdr3']\n",
    "\n",
    "indexes2 = [len(a) == pwm_a.l and len(b) == pwm_b.l for a, b in zip(alpha, beta)]\n",
    "\n",
    "alpha = alpha[indexes2]\n",
    "beta = beta[indexes2]"
   ]
  },
  {
   "cell_type": "code",
   "execution_count": 365,
   "metadata": {},
   "outputs": [
    {
     "data": {
      "text/plain": [
       "(24, 147, 13, 1564, 5.7630385487528342)"
      ]
     },
     "execution_count": 365,
     "metadata": {},
     "output_type": "execute_result"
    }
   ],
   "source": [
    "ascores = np.array([pwm_a.Score(a) for a in alpha])\n",
    "bscores = np.array([pwm_b.Score(b) for b in beta])\n",
    "\n",
    "ascores = ascores - max(ascores)\n",
    "bscores = bscores - max(bscores)\n",
    "\n",
    "athr, bthr = -2, -4\n",
    "indx = np.array(list(set(np.where(ascores > athr)[0]) & set(np.where(bscores > bthr)[0])))\n",
    "score = (indx.shape[0] * acdr3i.shape[0]) / (np.sum(ascores > athr) * np.sum(bscores > bthr))\n",
    "np.sum(ascores > athr), np.sum(bscores > bthr), indx.shape[0], acdr3i.shape[0], score"
   ]
  },
  {
   "cell_type": "code",
   "execution_count": 366,
   "metadata": {},
   "outputs": [
    {
     "data": {
      "text/html": [
       "<div>\n",
       "<style>\n",
       "    .dataframe thead tr:only-child th {\n",
       "        text-align: right;\n",
       "    }\n",
       "\n",
       "    .dataframe thead th {\n",
       "        text-align: left;\n",
       "    }\n",
       "\n",
       "    .dataframe tbody tr th {\n",
       "        vertical-align: top;\n",
       "    }\n",
       "</style>\n",
       "<table border=\"1\" class=\"dataframe\">\n",
       "  <thead>\n",
       "    <tr style=\"text-align: right;\">\n",
       "      <th></th>\n",
       "      <th>database</th>\n",
       "      <th>species</th>\n",
       "      <th>sample</th>\n",
       "      <th>epitope</th>\n",
       "      <th>antigen</th>\n",
       "      <th>tissue</th>\n",
       "      <th>cell_subset</th>\n",
       "      <th>alpha.v</th>\n",
       "      <th>alpha.j</th>\n",
       "      <th>alpha.cdr3</th>\n",
       "      <th>beta.v</th>\n",
       "      <th>beta.d</th>\n",
       "      <th>beta.j</th>\n",
       "      <th>beta.cdr3</th>\n",
       "    </tr>\n",
       "  </thead>\n",
       "  <tbody>\n",
       "    <tr>\n",
       "      <th>192</th>\n",
       "      <td>tcr_ab_pairs</td>\n",
       "      <td>HomoSapiens</td>\n",
       "      <td>3</td>\n",
       "      <td>NaN</td>\n",
       "      <td>NaN</td>\n",
       "      <td>NaN</td>\n",
       "      <td>NaN</td>\n",
       "      <td>TRAV12-1</td>\n",
       "      <td>TRAJ26</td>\n",
       "      <td>CVVLYGQNFVF</td>\n",
       "      <td>TRBV5-4,TRBV5-8</td>\n",
       "      <td>NaN</td>\n",
       "      <td>TRBJ1-2</td>\n",
       "      <td>CASSPDGNYGYTF</td>\n",
       "    </tr>\n",
       "    <tr>\n",
       "      <th>350</th>\n",
       "      <td>tcr_ab_pairs</td>\n",
       "      <td>HomoSapiens</td>\n",
       "      <td>3,2</td>\n",
       "      <td>NaN</td>\n",
       "      <td>NaN</td>\n",
       "      <td>NaN</td>\n",
       "      <td>NaN</td>\n",
       "      <td>TRAV12-3</td>\n",
       "      <td>TRAJ26</td>\n",
       "      <td>CVEVYGQNFVF</td>\n",
       "      <td>TRBV4-1,TRBV4-3,TRBV4-2,TRBV4-1,TRBV4-3</td>\n",
       "      <td>NaN</td>\n",
       "      <td>TRBJ1-2</td>\n",
       "      <td>CASSQDGNYGYTF</td>\n",
       "    </tr>\n",
       "    <tr>\n",
       "      <th>166</th>\n",
       "      <td>tcr_ab_pairs</td>\n",
       "      <td>HomoSapiens</td>\n",
       "      <td>3</td>\n",
       "      <td>NaN</td>\n",
       "      <td>NaN</td>\n",
       "      <td>NaN</td>\n",
       "      <td>NaN</td>\n",
       "      <td>TRAV12-1</td>\n",
       "      <td>TRAJ26</td>\n",
       "      <td>CVALYGQNFVF</td>\n",
       "      <td>TRBV11-3,TRBV11-1,TRBV11-2</td>\n",
       "      <td>TRBD1</td>\n",
       "      <td>TRBJ1-2</td>\n",
       "      <td>CASSLGQGYGYTF</td>\n",
       "    </tr>\n",
       "    <tr>\n",
       "      <th>1126</th>\n",
       "      <td>tcr_ab_pairs</td>\n",
       "      <td>HomoSapiens</td>\n",
       "      <td>3</td>\n",
       "      <td>NaN</td>\n",
       "      <td>NaN</td>\n",
       "      <td>NaN</td>\n",
       "      <td>NaN</td>\n",
       "      <td>TRAV12-1</td>\n",
       "      <td>TRAJ26</td>\n",
       "      <td>CVGNYGQNFVF</td>\n",
       "      <td>TRBV4-1</td>\n",
       "      <td>NaN</td>\n",
       "      <td>TRBJ1-2</td>\n",
       "      <td>CASSQDGNYGYTF</td>\n",
       "    </tr>\n",
       "    <tr>\n",
       "      <th>359</th>\n",
       "      <td>tcr_ab_pairs</td>\n",
       "      <td>HomoSapiens</td>\n",
       "      <td>3</td>\n",
       "      <td>NaN</td>\n",
       "      <td>NaN</td>\n",
       "      <td>NaN</td>\n",
       "      <td>NaN</td>\n",
       "      <td>TRAV12-1,TRAV12-3</td>\n",
       "      <td>TRAJ26</td>\n",
       "      <td>CVAPYGQNFVF</td>\n",
       "      <td>TRBV9</td>\n",
       "      <td>NaN</td>\n",
       "      <td>TRBJ1-2</td>\n",
       "      <td>CASSVDGNYGYTF</td>\n",
       "    </tr>\n",
       "    <tr>\n",
       "      <th>1510</th>\n",
       "      <td>tcr_ab_pairs</td>\n",
       "      <td>HomoSapiens</td>\n",
       "      <td>3</td>\n",
       "      <td>NaN</td>\n",
       "      <td>NaN</td>\n",
       "      <td>NaN</td>\n",
       "      <td>NaN</td>\n",
       "      <td>TRAV12-1</td>\n",
       "      <td>TRAJ26</td>\n",
       "      <td>CVVSYGQNFVF</td>\n",
       "      <td>TRBV15</td>\n",
       "      <td>NaN</td>\n",
       "      <td>TRBJ1-2</td>\n",
       "      <td>CATSRDGNYGYTF</td>\n",
       "    </tr>\n",
       "    <tr>\n",
       "      <th>989</th>\n",
       "      <td>tcr_ab_pairs</td>\n",
       "      <td>HomoSapiens</td>\n",
       "      <td>3</td>\n",
       "      <td>NaN</td>\n",
       "      <td>NaN</td>\n",
       "      <td>NaN</td>\n",
       "      <td>NaN</td>\n",
       "      <td>TRAV12-1</td>\n",
       "      <td>TRAJ26</td>\n",
       "      <td>CVATYGQNFVF</td>\n",
       "      <td>TRBV9</td>\n",
       "      <td>TRBD1</td>\n",
       "      <td>TRBJ1-2</td>\n",
       "      <td>CASSVEGALGYTF</td>\n",
       "    </tr>\n",
       "    <tr>\n",
       "      <th>1520</th>\n",
       "      <td>tcr_ab_pairs</td>\n",
       "      <td>HomoSapiens</td>\n",
       "      <td>3</td>\n",
       "      <td>NaN</td>\n",
       "      <td>NaN</td>\n",
       "      <td>NaN</td>\n",
       "      <td>NaN</td>\n",
       "      <td>TRAV12-1</td>\n",
       "      <td>TRAJ26</td>\n",
       "      <td>CVVSYGQNFVF</td>\n",
       "      <td>TRBV4-1,TRBV4-3</td>\n",
       "      <td>NaN</td>\n",
       "      <td>TRBJ1-2</td>\n",
       "      <td>CASSQDGNYGYTF</td>\n",
       "    </tr>\n",
       "    <tr>\n",
       "      <th>888</th>\n",
       "      <td>tcr_ab_pairs</td>\n",
       "      <td>HomoSapiens</td>\n",
       "      <td>3</td>\n",
       "      <td>NaN</td>\n",
       "      <td>NaN</td>\n",
       "      <td>NaN</td>\n",
       "      <td>NaN</td>\n",
       "      <td>TRAV12-1</td>\n",
       "      <td>TRAJ26</td>\n",
       "      <td>CVVLYGQNFVF</td>\n",
       "      <td>TRBV5-4,TRBV5-8</td>\n",
       "      <td>TRBD2,TRBD1</td>\n",
       "      <td>TRBJ1-2</td>\n",
       "      <td>CASSQGPNYGYTF</td>\n",
       "    </tr>\n",
       "    <tr>\n",
       "      <th>600</th>\n",
       "      <td>tcr_ab_pairs</td>\n",
       "      <td>HomoSapiens</td>\n",
       "      <td>2</td>\n",
       "      <td>NaN</td>\n",
       "      <td>NaN</td>\n",
       "      <td>NaN</td>\n",
       "      <td>NaN</td>\n",
       "      <td>TRAV12-1</td>\n",
       "      <td>TRAJ26</td>\n",
       "      <td>CVVGYGQNFVF</td>\n",
       "      <td>TRBV9</td>\n",
       "      <td>NaN</td>\n",
       "      <td>TRBJ1-2</td>\n",
       "      <td>CASSVDPNYGYTF</td>\n",
       "    </tr>\n",
       "    <tr>\n",
       "      <th>957</th>\n",
       "      <td>tcr_ab_pairs</td>\n",
       "      <td>HomoSapiens</td>\n",
       "      <td>3</td>\n",
       "      <td>NaN</td>\n",
       "      <td>NaN</td>\n",
       "      <td>NaN</td>\n",
       "      <td>NaN</td>\n",
       "      <td>TRAV10</td>\n",
       "      <td>TRAJ26</td>\n",
       "      <td>CVVHYGQNFVF</td>\n",
       "      <td>TRBV5-1</td>\n",
       "      <td>TRBD1</td>\n",
       "      <td>TRBJ1-2</td>\n",
       "      <td>CASSLEGAVGYTF</td>\n",
       "    </tr>\n",
       "    <tr>\n",
       "      <th>830</th>\n",
       "      <td>tcr_ab_pairs</td>\n",
       "      <td>HomoSapiens</td>\n",
       "      <td>3</td>\n",
       "      <td>NaN</td>\n",
       "      <td>NaN</td>\n",
       "      <td>NaN</td>\n",
       "      <td>NaN</td>\n",
       "      <td>TRAV12-1</td>\n",
       "      <td>TRAJ26</td>\n",
       "      <td>CVGVYGQNFVF</td>\n",
       "      <td>TRBV9</td>\n",
       "      <td>NaN</td>\n",
       "      <td>TRBJ1-2</td>\n",
       "      <td>CASSEDPNYGYTF</td>\n",
       "    </tr>\n",
       "    <tr>\n",
       "      <th>286</th>\n",
       "      <td>tcr_ab_pairs</td>\n",
       "      <td>HomoSapiens</td>\n",
       "      <td>3,2</td>\n",
       "      <td>NaN</td>\n",
       "      <td>NaN</td>\n",
       "      <td>NaN</td>\n",
       "      <td>NaN</td>\n",
       "      <td>TRAV12-1</td>\n",
       "      <td>TRAJ26</td>\n",
       "      <td>CVSSYGQNFVF</td>\n",
       "      <td>TRBV9</td>\n",
       "      <td>NaN</td>\n",
       "      <td>TRBJ1-2</td>\n",
       "      <td>CASSVDPNYGYTF</td>\n",
       "    </tr>\n",
       "  </tbody>\n",
       "</table>\n",
       "</div>"
      ],
      "text/plain": [
       "          database      species sample epitope antigen tissue cell_subset  \\\n",
       "192   tcr_ab_pairs  HomoSapiens      3     NaN     NaN    NaN         NaN   \n",
       "350   tcr_ab_pairs  HomoSapiens    3,2     NaN     NaN    NaN         NaN   \n",
       "166   tcr_ab_pairs  HomoSapiens      3     NaN     NaN    NaN         NaN   \n",
       "1126  tcr_ab_pairs  HomoSapiens      3     NaN     NaN    NaN         NaN   \n",
       "359   tcr_ab_pairs  HomoSapiens      3     NaN     NaN    NaN         NaN   \n",
       "1510  tcr_ab_pairs  HomoSapiens      3     NaN     NaN    NaN         NaN   \n",
       "989   tcr_ab_pairs  HomoSapiens      3     NaN     NaN    NaN         NaN   \n",
       "1520  tcr_ab_pairs  HomoSapiens      3     NaN     NaN    NaN         NaN   \n",
       "888   tcr_ab_pairs  HomoSapiens      3     NaN     NaN    NaN         NaN   \n",
       "600   tcr_ab_pairs  HomoSapiens      2     NaN     NaN    NaN         NaN   \n",
       "957   tcr_ab_pairs  HomoSapiens      3     NaN     NaN    NaN         NaN   \n",
       "830   tcr_ab_pairs  HomoSapiens      3     NaN     NaN    NaN         NaN   \n",
       "286   tcr_ab_pairs  HomoSapiens    3,2     NaN     NaN    NaN         NaN   \n",
       "\n",
       "                alpha.v alpha.j   alpha.cdr3  \\\n",
       "192            TRAV12-1  TRAJ26  CVVLYGQNFVF   \n",
       "350            TRAV12-3  TRAJ26  CVEVYGQNFVF   \n",
       "166            TRAV12-1  TRAJ26  CVALYGQNFVF   \n",
       "1126           TRAV12-1  TRAJ26  CVGNYGQNFVF   \n",
       "359   TRAV12-1,TRAV12-3  TRAJ26  CVAPYGQNFVF   \n",
       "1510           TRAV12-1  TRAJ26  CVVSYGQNFVF   \n",
       "989            TRAV12-1  TRAJ26  CVATYGQNFVF   \n",
       "1520           TRAV12-1  TRAJ26  CVVSYGQNFVF   \n",
       "888            TRAV12-1  TRAJ26  CVVLYGQNFVF   \n",
       "600            TRAV12-1  TRAJ26  CVVGYGQNFVF   \n",
       "957              TRAV10  TRAJ26  CVVHYGQNFVF   \n",
       "830            TRAV12-1  TRAJ26  CVGVYGQNFVF   \n",
       "286            TRAV12-1  TRAJ26  CVSSYGQNFVF   \n",
       "\n",
       "                                       beta.v       beta.d   beta.j  \\\n",
       "192                           TRBV5-4,TRBV5-8          NaN  TRBJ1-2   \n",
       "350   TRBV4-1,TRBV4-3,TRBV4-2,TRBV4-1,TRBV4-3          NaN  TRBJ1-2   \n",
       "166                TRBV11-3,TRBV11-1,TRBV11-2        TRBD1  TRBJ1-2   \n",
       "1126                                  TRBV4-1          NaN  TRBJ1-2   \n",
       "359                                     TRBV9          NaN  TRBJ1-2   \n",
       "1510                                   TRBV15          NaN  TRBJ1-2   \n",
       "989                                     TRBV9        TRBD1  TRBJ1-2   \n",
       "1520                          TRBV4-1,TRBV4-3          NaN  TRBJ1-2   \n",
       "888                           TRBV5-4,TRBV5-8  TRBD2,TRBD1  TRBJ1-2   \n",
       "600                                     TRBV9          NaN  TRBJ1-2   \n",
       "957                                   TRBV5-1        TRBD1  TRBJ1-2   \n",
       "830                                     TRBV9          NaN  TRBJ1-2   \n",
       "286                                     TRBV9          NaN  TRBJ1-2   \n",
       "\n",
       "          beta.cdr3  \n",
       "192   CASSPDGNYGYTF  \n",
       "350   CASSQDGNYGYTF  \n",
       "166   CASSLGQGYGYTF  \n",
       "1126  CASSQDGNYGYTF  \n",
       "359   CASSVDGNYGYTF  \n",
       "1510  CATSRDGNYGYTF  \n",
       "989   CASSVEGALGYTF  \n",
       "1520  CASSQDGNYGYTF  \n",
       "888   CASSQGPNYGYTF  \n",
       "600   CASSVDPNYGYTF  \n",
       "957   CASSLEGAVGYTF  \n",
       "830   CASSEDPNYGYTF  \n",
       "286   CASSVDPNYGYTF  "
      ]
     },
     "execution_count": 366,
     "metadata": {},
     "output_type": "execute_result"
    }
   ],
   "source": [
    "D = data_pd.loc[indexes2]\n",
    "D.index = np.arange(D.shape[0])\n",
    "D.loc[indx]"
   ]
  },
  {
   "cell_type": "code",
   "execution_count": 334,
   "metadata": {},
   "outputs": [],
   "source": [
    "cdr3s = data_pd['alpha.cdr3'] + '_' + data_pd['beta.cdr3']"
   ]
  },
  {
   "cell_type": "code",
   "execution_count": null,
   "metadata": {},
   "outputs": [],
   "source": [
    "cdr32i = {x:i for i, x in enumerate(cdr3s)}\n",
    "IW = "
   ]
  },
  {
   "cell_type": "code",
   "execution_count": null,
   "metadata": {
    "collapsed": true
   },
   "outputs": [],
   "source": []
  }
 ],
 "metadata": {
  "kernelspec": {
   "display_name": "Python 3",
   "language": "python",
   "name": "python3"
  },
  "language_info": {
   "codemirror_mode": {
    "name": "ipython",
    "version": 3
   },
   "file_extension": ".py",
   "mimetype": "text/x-python",
   "name": "python",
   "nbconvert_exporter": "python",
   "pygments_lexer": "ipython3",
   "version": "3.6.5"
  }
 },
 "nbformat": 4,
 "nbformat_minor": 2
}
