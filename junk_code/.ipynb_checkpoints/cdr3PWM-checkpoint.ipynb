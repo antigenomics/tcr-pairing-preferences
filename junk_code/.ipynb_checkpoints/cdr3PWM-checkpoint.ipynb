{
 "cells": [
  {
   "cell_type": "code",
   "execution_count": 1,
   "metadata": {
    "collapsed": true
   },
   "outputs": [],
   "source": [
    "import numpy as np\n",
    "import pandas as pd\n",
    "import matplotlib.pyplot as plt\n",
    "import seaborn as sns\n",
    "import itertools\n",
    "\n",
    "%matplotlib inline"
   ]
  },
  {
   "cell_type": "code",
   "execution_count": 2,
   "metadata": {
    "collapsed": true
   },
   "outputs": [],
   "source": [
    "data_pd = pd.read_csv('data/MergedData.csv', index_col=0)\n",
    "data_pd = data_pd[['alpha.cdr3', 'beta.cdr3']].drop_duplicates()"
   ]
  },
  {
   "cell_type": "code",
   "execution_count": 3,
   "metadata": {
    "collapsed": true
   },
   "outputs": [],
   "source": [
    "def standartize_cdr3_length(protein):\n",
    "    insertion_places = {6:3, 7:4, 8:4, 9:5, 10:5, 11:6, 12:6, 13:7, 14:7, 15:8}\n",
    "    insertion_place = insertion_places[len(protein)]\n",
    "    insertion_length = 15 - len(protein)\n",
    "    return protein[:insertion_place] + '_' * insertion_length + protein[insertion_place:]"
   ]
  },
  {
   "cell_type": "code",
   "execution_count": 7,
   "metadata": {
    "collapsed": true
   },
   "outputs": [],
   "source": [
    "alpha_ind = [5 < len(x) < 16 for x in data_pd['alpha.cdr3']]\n",
    "beta_ind = [5 < len(x) < 16 for x in data_pd['beta.cdr3']]\n",
    "indexes = np.all([alpha_ind, beta_ind], axis=0)\n",
    "data_pd = data_pd.loc[indexes]"
   ]
  },
  {
   "cell_type": "code",
   "execution_count": 8,
   "metadata": {},
   "outputs": [],
   "source": [
    "data_pd['alpha.cdr3'] = [standartize_cdr3_length(protein) for protein in data_pd['alpha.cdr3']]\n",
    "data_pd['beta.cdr3'] = [standartize_cdr3_length(protein) for protein in data_pd['beta.cdr3']]"
   ]
  },
  {
   "cell_type": "code",
   "execution_count": 9,
   "metadata": {
    "collapsed": true
   },
   "outputs": [],
   "source": [
    "acdr3 = data_pd['alpha.cdr3'].as_matrix()\n",
    "bcdr3 = data_pd['beta.cdr3'].as_matrix()\n",
    "\n",
    "del data_pd"
   ]
  },
  {
   "cell_type": "code",
   "execution_count": 10,
   "metadata": {},
   "outputs": [
    {
     "data": {
      "text/plain": [
       "155"
      ]
     },
     "execution_count": 10,
     "metadata": {},
     "output_type": "execute_result"
    }
   ],
   "source": [
    "amask = 'CAV??NY__AQGLTF'\n",
    "bmask = 'CA????S__AETLYF'\n",
    "\n",
    "mask_ind = np.ones((acdr3.shape[0]), dtype=bool)\n",
    "for i in range(acdr3.shape[0]):\n",
    "    for pos in range(15):\n",
    "        if amask[pos] != '?' and amask[pos] != acdr3[i][pos]:\n",
    "            mask_ind[i] = False\n",
    "        if bmask[pos] != '?' and bmask[pos] != bcdr3[i][pos]:\n",
    "            mask_ind[i] = False\n",
    "\n",
    "np.sum(mask_ind)"
   ]
  },
  {
   "cell_type": "code",
   "execution_count": 15,
   "metadata": {
    "collapsed": true
   },
   "outputs": [],
   "source": [
    "aa = ['A', 'C', 'D', 'E', 'F', 'G', 'H', 'I', 'K', 'L', 'M', 'N', 'P', 'Q', 'R', 'S', 'T', 'V', 'W', 'Y', '_']\n",
    "aa2num_table = {aa[i]:i for i in range(21)}\n",
    "\n",
    "def aa2num(aa):\n",
    "    return aa2num_table[aa]"
   ]
  },
  {
   "cell_type": "code",
   "execution_count": 23,
   "metadata": {
    "collapsed": true
   },
   "outputs": [],
   "source": [
    "class PWM:\n",
    "    def __init__(self, sequences):\n",
    "        assert len(sequences) > 0\n",
    "        self.l = len(sequences[0])\n",
    "        PPM = np.ones((self.l, 21), dtype=float)\n",
    "        for seq in sequences:\n",
    "            assert len(seq) == self.l\n",
    "            for pos in range(self.l):\n",
    "                PPM[pos, aa2num(seq[pos])] += 1\n",
    "        aa_composition = np.sum(PPM, axis=0)\n",
    "        self.PWM = np.log2(PPM / aa_composition)\n",
    "    \n",
    "    def Score(self, seq):\n",
    "        assert self.l == len(seq)\n",
    "        return sum([self.PWM[pos, aa2num(seq[pos])] for pos in range(self.l)])"
   ]
  },
  {
   "cell_type": "code",
   "execution_count": 28,
   "metadata": {},
   "outputs": [],
   "source": [
    "alpha_pwm = PWM(acdr3[mask_ind])\n",
    "beta_pwm = PWM(bcdr3[mask_ind])\n",
    "\n",
    "ascores = np.array([alpha_pwm.Score(seq) for seq in acdr3])\n",
    "bscores = np.array([beta_pwm.Score(seq) for seq in bcdr3])"
   ]
  },
  {
   "cell_type": "code",
   "execution_count": 29,
   "metadata": {},
   "outputs": [],
   "source": [
    "am_score = ascores[mask_ind]\n",
    "bm_score = bscores[mask_ind]"
   ]
  },
  {
   "cell_type": "code",
   "execution_count": 49,
   "metadata": {},
   "outputs": [
    {
     "data": {
      "text/plain": [
       "<matplotlib.axes._subplots.AxesSubplot at 0x1f8518c31d0>"
      ]
     },
     "execution_count": 49,
     "metadata": {},
     "output_type": "execute_result"
    },
    {
     "data": {
      "image/png": "[encoded data removed]",
      "text/plain": [
       "<matplotlib.figure.Figure at 0x1f851369b70>"
      ]
     },
     "metadata": {},
     "output_type": "display_data"
    }
   ],
   "source": [
    "ax = plt.figure(figsize=(16, 5)).subplots(ncols=2)\n",
    "ax[0].set_title('alpha PWM matrix score distribution')\n",
    "ax[1].set_title('beta PWM matrix score distribution')\n",
    "sns.distplot(am_score, ax=ax[0])\n",
    "sns.distplot(ascores, ax=ax[0])\n",
    "sns.distplot(bm_score, ax=ax[1])\n",
    "sns.distplot(bscores, ax=ax[1])"
   ]
  },
  {
   "cell_type": "code",
   "execution_count": 54,
   "metadata": {},
   "outputs": [],
   "source": [
    "am5qs = np.sort(am_score)[int(am_score.shape[0] * .05)]\n",
    "bm5qs = np.sort(bm_score)[int(bm_score.shape[0] * .05)]"
   ]
  },
  {
   "cell_type": "code",
   "execution_count": 57,
   "metadata": {},
   "outputs": [],
   "source": [
    "aind = ascores >= am5qs\n",
    "bind = bscores >= bm5qs\n",
    "\n",
    "mask_ind = np.all([aind, bind], axis=0)"
   ]
  },
  {
   "cell_type": "markdown",
   "metadata": {},
   "source": []
  }
 ],
 "metadata": {
  "kernelspec": {
   "display_name": "Python 3",
   "language": "python",
   "name": "python3"
  },
  "language_info": {
   "codemirror_mode": {
    "name": "ipython",
    "version": 3
   },
   "file_extension": ".py",
   "mimetype": "text/x-python",
   "name": "python",
   "nbconvert_exporter": "python",
   "pygments_lexer": "ipython3",
   "version": "3.6.3"
  }
 },
 "nbformat": 4,
 "nbformat_minor": 2
}
