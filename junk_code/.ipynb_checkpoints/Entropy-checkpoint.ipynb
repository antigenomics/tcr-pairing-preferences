{
 "cells": [
  {
   "cell_type": "code",
   "execution_count": 1,
   "metadata": {
    "collapsed": true
   },
   "outputs": [],
   "source": [
    "import numpy as np\n",
    "import pandas as pd\n",
    "import matplotlib.pyplot as plt\n",
    "import seaborn as sns\n",
    "%matplotlib inline"
   ]
  },
  {
   "cell_type": "code",
   "execution_count": 43,
   "metadata": {},
   "outputs": [
    {
     "name": "stdout",
     "output_type": "stream",
     "text": [
      "(22143, 38)\n"
     ]
    },
    {
     "data": {
      "text/html": [
       "<div>\n",
       "<style>\n",
       "    .dataframe thead tr:only-child th {\n",
       "        text-align: right;\n",
       "    }\n",
       "\n",
       "    .dataframe thead th {\n",
       "        text-align: left;\n",
       "    }\n",
       "\n",
       "    .dataframe tbody tr th {\n",
       "        vertical-align: top;\n",
       "    }\n",
       "</style>\n",
       "<table border=\"1\" class=\"dataframe\">\n",
       "  <thead>\n",
       "    <tr style=\"text-align: right;\">\n",
       "      <th></th>\n",
       "      <th>cdr3.alpha</th>\n",
       "      <th>v.alpha</th>\n",
       "      <th>j.alpha</th>\n",
       "      <th>cdr3.beta</th>\n",
       "      <th>v.beta</th>\n",
       "      <th>d.beta</th>\n",
       "      <th>j.beta</th>\n",
       "      <th>species</th>\n",
       "      <th>mhc.a</th>\n",
       "      <th>mhc.b</th>\n",
       "      <th>...</th>\n",
       "      <th>meta.donor.MHC</th>\n",
       "      <th>meta.donor.MHC.method</th>\n",
       "      <th>meta.structure.id</th>\n",
       "      <th>cdr3fix.alpha</th>\n",
       "      <th>cdr3fix.beta</th>\n",
       "      <th>vdjdb.score</th>\n",
       "      <th>genP_1mism_alpha</th>\n",
       "      <th>genP_0mism_alpha</th>\n",
       "      <th>genP_1mism_beta</th>\n",
       "      <th>genP_0mism_beta</th>\n",
       "    </tr>\n",
       "  </thead>\n",
       "  <tbody>\n",
       "    <tr>\n",
       "      <th>0</th>\n",
       "      <td>NaN</td>\n",
       "      <td>NaN</td>\n",
       "      <td>NaN</td>\n",
       "      <td>CASSSGQLTNTEAFF</td>\n",
       "      <td>TRBV9*01</td>\n",
       "      <td>NaN</td>\n",
       "      <td>TRBJ1-1*01</td>\n",
       "      <td>HomoSapiens</td>\n",
       "      <td>HLA-A*02:01</td>\n",
       "      <td>B2M</td>\n",
       "      <td>...</td>\n",
       "      <td>HLA-A*02:01</td>\n",
       "      <td>NaN</td>\n",
       "      <td>NaN</td>\n",
       "      <td>NaN</td>\n",
       "      <td>{\"cdr3\": \"CASSSGQLTNTEAFF\", \"cdr3_old\": \"CASSS...</td>\n",
       "      <td>1</td>\n",
       "      <td>NaN</td>\n",
       "      <td>NaN</td>\n",
       "      <td>2.070000e-07</td>\n",
       "      <td>2.333333e-09</td>\n",
       "    </tr>\n",
       "    <tr>\n",
       "      <th>1</th>\n",
       "      <td>NaN</td>\n",
       "      <td>NaN</td>\n",
       "      <td>NaN</td>\n",
       "      <td>CASSASARPEQFF</td>\n",
       "      <td>TRBV9*01</td>\n",
       "      <td>NaN</td>\n",
       "      <td>TRBJ2-1*01</td>\n",
       "      <td>HomoSapiens</td>\n",
       "      <td>HLA-A*02:01</td>\n",
       "      <td>B2M</td>\n",
       "      <td>...</td>\n",
       "      <td>HLA-A*02:01</td>\n",
       "      <td>NaN</td>\n",
       "      <td>NaN</td>\n",
       "      <td>NaN</td>\n",
       "      <td>{\"cdr3\": \"CASSASARPEQFF\", \"cdr3_old\": \"CASSASA...</td>\n",
       "      <td>0</td>\n",
       "      <td>NaN</td>\n",
       "      <td>NaN</td>\n",
       "      <td>1.500000e-08</td>\n",
       "      <td>0.000000e+00</td>\n",
       "    </tr>\n",
       "    <tr>\n",
       "      <th>2</th>\n",
       "      <td>NaN</td>\n",
       "      <td>NaN</td>\n",
       "      <td>NaN</td>\n",
       "      <td>CASSSGLLTADEQFF</td>\n",
       "      <td>TRBV9*01</td>\n",
       "      <td>NaN</td>\n",
       "      <td>TRBJ2-1*01</td>\n",
       "      <td>HomoSapiens</td>\n",
       "      <td>HLA-A*02:01</td>\n",
       "      <td>B2M</td>\n",
       "      <td>...</td>\n",
       "      <td>HLA-A*02:01</td>\n",
       "      <td>NaN</td>\n",
       "      <td>NaN</td>\n",
       "      <td>NaN</td>\n",
       "      <td>{\"cdr3\": \"CASSSGLLTADEQFF\", \"cdr3_old\": \"CASSS...</td>\n",
       "      <td>0</td>\n",
       "      <td>NaN</td>\n",
       "      <td>NaN</td>\n",
       "      <td>2.000000e-09</td>\n",
       "      <td>0.000000e+00</td>\n",
       "    </tr>\n",
       "    <tr>\n",
       "      <th>3</th>\n",
       "      <td>NaN</td>\n",
       "      <td>NaN</td>\n",
       "      <td>NaN</td>\n",
       "      <td>CASSSGQVSNTGELFF</td>\n",
       "      <td>TRBV9*01</td>\n",
       "      <td>NaN</td>\n",
       "      <td>TRBJ2-2*01</td>\n",
       "      <td>HomoSapiens</td>\n",
       "      <td>HLA-A*02:01</td>\n",
       "      <td>B2M</td>\n",
       "      <td>...</td>\n",
       "      <td>HLA-A*02:01</td>\n",
       "      <td>NaN</td>\n",
       "      <td>NaN</td>\n",
       "      <td>NaN</td>\n",
       "      <td>{\"cdr3\": \"CASSSGQVSNTGELFF\", \"cdr3_old\": \"CASS...</td>\n",
       "      <td>0</td>\n",
       "      <td>NaN</td>\n",
       "      <td>NaN</td>\n",
       "      <td>1.180000e-07</td>\n",
       "      <td>1.666667e-09</td>\n",
       "    </tr>\n",
       "    <tr>\n",
       "      <th>4</th>\n",
       "      <td>NaN</td>\n",
       "      <td>NaN</td>\n",
       "      <td>NaN</td>\n",
       "      <td>CSARDRTGNGYTF</td>\n",
       "      <td>TRBV20-1*01</td>\n",
       "      <td>NaN</td>\n",
       "      <td>TRBJ1-2*01</td>\n",
       "      <td>HomoSapiens</td>\n",
       "      <td>HLA-A*02:01</td>\n",
       "      <td>B2M</td>\n",
       "      <td>...</td>\n",
       "      <td>HLA-A*02:01</td>\n",
       "      <td>NaN</td>\n",
       "      <td>NaN</td>\n",
       "      <td>NaN</td>\n",
       "      <td>{\"cdr3\": \"CSARDRTGNGYTF\", \"cdr3_old\": \"CSARDRT...</td>\n",
       "      <td>2</td>\n",
       "      <td>NaN</td>\n",
       "      <td>NaN</td>\n",
       "      <td>1.660000e-07</td>\n",
       "      <td>4.333333e-09</td>\n",
       "    </tr>\n",
       "  </tbody>\n",
       "</table>\n",
       "<p>5 rows × 38 columns</p>\n",
       "</div>"
      ],
      "text/plain": [
       "  cdr3.alpha v.alpha j.alpha         cdr3.beta       v.beta d.beta  \\\n",
       "0        NaN     NaN     NaN   CASSSGQLTNTEAFF     TRBV9*01    NaN   \n",
       "1        NaN     NaN     NaN     CASSASARPEQFF     TRBV9*01    NaN   \n",
       "2        NaN     NaN     NaN   CASSSGLLTADEQFF     TRBV9*01    NaN   \n",
       "3        NaN     NaN     NaN  CASSSGQVSNTGELFF     TRBV9*01    NaN   \n",
       "4        NaN     NaN     NaN     CSARDRTGNGYTF  TRBV20-1*01    NaN   \n",
       "\n",
       "       j.beta      species        mhc.a mhc.b       ...       meta.donor.MHC  \\\n",
       "0  TRBJ1-1*01  HomoSapiens  HLA-A*02:01   B2M       ...          HLA-A*02:01   \n",
       "1  TRBJ2-1*01  HomoSapiens  HLA-A*02:01   B2M       ...          HLA-A*02:01   \n",
       "2  TRBJ2-1*01  HomoSapiens  HLA-A*02:01   B2M       ...          HLA-A*02:01   \n",
       "3  TRBJ2-2*01  HomoSapiens  HLA-A*02:01   B2M       ...          HLA-A*02:01   \n",
       "4  TRBJ1-2*01  HomoSapiens  HLA-A*02:01   B2M       ...          HLA-A*02:01   \n",
       "\n",
       "  meta.donor.MHC.method meta.structure.id cdr3fix.alpha  \\\n",
       "0                   NaN               NaN           NaN   \n",
       "1                   NaN               NaN           NaN   \n",
       "2                   NaN               NaN           NaN   \n",
       "3                   NaN               NaN           NaN   \n",
       "4                   NaN               NaN           NaN   \n",
       "\n",
       "                                        cdr3fix.beta vdjdb.score  \\\n",
       "0  {\"cdr3\": \"CASSSGQLTNTEAFF\", \"cdr3_old\": \"CASSS...           1   \n",
       "1  {\"cdr3\": \"CASSASARPEQFF\", \"cdr3_old\": \"CASSASA...           0   \n",
       "2  {\"cdr3\": \"CASSSGLLTADEQFF\", \"cdr3_old\": \"CASSS...           0   \n",
       "3  {\"cdr3\": \"CASSSGQVSNTGELFF\", \"cdr3_old\": \"CASS...           0   \n",
       "4  {\"cdr3\": \"CSARDRTGNGYTF\", \"cdr3_old\": \"CSARDRT...           2   \n",
       "\n",
       "  genP_1mism_alpha genP_0mism_alpha genP_1mism_beta genP_0mism_beta  \n",
       "0              NaN              NaN    2.070000e-07    2.333333e-09  \n",
       "1              NaN              NaN    1.500000e-08    0.000000e+00  \n",
       "2              NaN              NaN    2.000000e-09    0.000000e+00  \n",
       "3              NaN              NaN    1.180000e-07    1.666667e-09  \n",
       "4              NaN              NaN    1.660000e-07    4.333333e-09  \n",
       "\n",
       "[5 rows x 38 columns]"
      ]
     },
     "execution_count": 43,
     "metadata": {},
     "output_type": "execute_result"
    }
   ],
   "source": [
    "raw_data = pd.read_table('data/VDJDB_full_ab.txt')\n",
    "print(raw_data.shape)\n",
    "n_samples = raw_data.shape[0]\n",
    "raw_data.head()"
   ]
  },
  {
   "cell_type": "code",
   "execution_count": 44,
   "metadata": {},
   "outputs": [
    {
     "name": "stdout",
     "output_type": "stream",
     "text": [
      "1560\n",
      "(1362, 6)\n"
     ]
    },
    {
     "data": {
      "text/html": [
       "<div>\n",
       "<style>\n",
       "    .dataframe thead tr:only-child th {\n",
       "        text-align: right;\n",
       "    }\n",
       "\n",
       "    .dataframe thead th {\n",
       "        text-align: left;\n",
       "    }\n",
       "\n",
       "    .dataframe tbody tr th {\n",
       "        vertical-align: top;\n",
       "    }\n",
       "</style>\n",
       "<table border=\"1\" class=\"dataframe\">\n",
       "  <thead>\n",
       "    <tr style=\"text-align: right;\">\n",
       "      <th></th>\n",
       "      <th>cdr3.alpha</th>\n",
       "      <th>cdr3.beta</th>\n",
       "      <th>genP_1mism_alpha</th>\n",
       "      <th>genP_0mism_alpha</th>\n",
       "      <th>genP_1mism_beta</th>\n",
       "      <th>genP_0mism_beta</th>\n",
       "    </tr>\n",
       "  </thead>\n",
       "  <tbody>\n",
       "    <tr>\n",
       "      <th>78</th>\n",
       "      <td>CAGNNARPMF</td>\n",
       "      <td>CASSQSPGGVAFF</td>\n",
       "      <td>1.450533e-05</td>\n",
       "      <td>0.000000</td>\n",
       "      <td>6.700000e-08</td>\n",
       "      <td>1.000000e-09</td>\n",
       "    </tr>\n",
       "    <tr>\n",
       "      <th>79</th>\n",
       "      <td>CAGNNARLMF</td>\n",
       "      <td>CASSQSPGGVAFF</td>\n",
       "      <td>1.621160e-04</td>\n",
       "      <td>0.000015</td>\n",
       "      <td>6.700000e-08</td>\n",
       "      <td>1.000000e-09</td>\n",
       "    </tr>\n",
       "    <tr>\n",
       "      <th>80</th>\n",
       "      <td>CAGNNARLVF</td>\n",
       "      <td>CASSQSPGGTQYF</td>\n",
       "      <td>1.450600e-05</td>\n",
       "      <td>0.000000</td>\n",
       "      <td>7.816667e-07</td>\n",
       "      <td>1.300000e-08</td>\n",
       "    </tr>\n",
       "    <tr>\n",
       "      <th>81</th>\n",
       "      <td>CAEGFASSDGQKLLF</td>\n",
       "      <td>CASSQSPGGTQYF</td>\n",
       "      <td>3.000000e-09</td>\n",
       "      <td>0.000000</td>\n",
       "      <td>7.816667e-07</td>\n",
       "      <td>1.300000e-08</td>\n",
       "    </tr>\n",
       "    <tr>\n",
       "      <th>82</th>\n",
       "      <td>CAGNNARLMF</td>\n",
       "      <td>CSARDRHREWLHF</td>\n",
       "      <td>1.621160e-04</td>\n",
       "      <td>0.000015</td>\n",
       "      <td>0.000000e+00</td>\n",
       "      <td>0.000000e+00</td>\n",
       "    </tr>\n",
       "  </tbody>\n",
       "</table>\n",
       "</div>"
      ],
      "text/plain": [
       "         cdr3.alpha      cdr3.beta  genP_1mism_alpha  genP_0mism_alpha  \\\n",
       "78       CAGNNARPMF  CASSQSPGGVAFF      1.450533e-05          0.000000   \n",
       "79       CAGNNARLMF  CASSQSPGGVAFF      1.621160e-04          0.000015   \n",
       "80       CAGNNARLVF  CASSQSPGGTQYF      1.450600e-05          0.000000   \n",
       "81  CAEGFASSDGQKLLF  CASSQSPGGTQYF      3.000000e-09          0.000000   \n",
       "82       CAGNNARLMF  CSARDRHREWLHF      1.621160e-04          0.000015   \n",
       "\n",
       "    genP_1mism_beta  genP_0mism_beta  \n",
       "78     6.700000e-08     1.000000e-09  \n",
       "79     6.700000e-08     1.000000e-09  \n",
       "80     7.816667e-07     1.300000e-08  \n",
       "81     7.816667e-07     1.300000e-08  \n",
       "82     0.000000e+00     0.000000e+00  "
      ]
     },
     "execution_count": 44,
     "metadata": {},
     "output_type": "execute_result"
    }
   ],
   "source": [
    "x = pd.notnull(raw_data.iloc[:, 0])\n",
    "y = pd.notnull(raw_data.iloc[:, 3])\n",
    "valid = [x[i] and y[i] for i in range(n_samples)]\n",
    "print(sum(valid))\n",
    "data_pd = raw_data.iloc[valid, [0, 3, 34, 35, 36, 37]].drop_duplicates()\n",
    "n_samples = data_pd.shape[0]\n",
    "print(data_pd.shape)\n",
    "data_pd.head()"
   ]
  },
  {
   "cell_type": "code",
   "execution_count": 121,
   "metadata": {
    "collapsed": true
   },
   "outputs": [],
   "source": [
    "data = data_pd.as_matrix()\n",
    "minvalue = np.min(data[data[:, 3] > 0, 2])\n",
    "data[data[:, 2] == 0, 2] = minvalue\n",
    "data[data[:, 4] == 0, 4] = minvalue\n",
    "data[data[:, 3] == 0, 3] = minvalue\n",
    "data[data[:, 5] == 0, 5] = minvalue"
   ]
  },
  {
   "cell_type": "code",
   "execution_count": 124,
   "metadata": {},
   "outputs": [
    {
     "data": {
      "text/plain": [
       "-28"
      ]
     },
     "execution_count": 124,
     "metadata": {},
     "output_type": "execute_result"
    }
   ],
   "source": [
    "int(np.log2(minvalue))"
   ]
  },
  {
   "cell_type": "code",
   "execution_count": 172,
   "metadata": {
    "collapsed": true
   },
   "outputs": [],
   "source": [
    "# d is pd Data Frame with two columns: sequence and p\n",
    "def Statistics1(array, n_bins):\n",
    "    minv, maxv = np.min(array), np.max(array)\n",
    "    statistics = np.zeros((n_bins), dtype=float)\n",
    "    for x in array:\n",
    "        x_bin = min(n_bins - 1, \n",
    "                    int((x - minv) / (maxv - minv) * n_bins))\n",
    "        statistics[x_bin] += 1\n",
    "    return statistics\n",
    "\n",
    "def Statistics(array, step=1):\n",
    "    minv, maxv = np.min(array), np.max(array)\n",
    "    statistics = np.zeros((int((maxv - minv) / step) + 1))\n",
    "    \n",
    "    for x in array:\n",
    "        statistics[int((x - minv) / step)] += 1\n",
    "    \n",
    "    return statistics / np.sum(statistics), int(minv)\n",
    "\n",
    "def ProbDist(d):\n",
    "    d1 = pd.DataFrame(d).drop_duplicates().as_matrix()\n",
    "    d1[:, 1] = d1[:, 1]\n",
    "    return d1\n",
    "\n",
    "# p is sample probability distribution numpy array\n",
    "def ShanonEntropy(p):\n",
    "    x = p * np.log(p)\n",
    "    x[p == 0] = 0\n",
    "    return -np.sum(x)\n",
    "\n",
    "# x is beta, the entropy parametr\n",
    "def RenyiEntropy(p, x):\n",
    "    p1 = np.array(p, dtype=np.float)\n",
    "    if x == 1:\n",
    "        return ShanonEntropy(p1)\n",
    "    return np.log(np.sum(np.power(p1, x))) / (1 - x)"
   ]
  },
  {
   "cell_type": "markdown",
   "metadata": {},
   "source": [
    "# gen P 1"
   ]
  },
  {
   "cell_type": "code",
   "execution_count": 193,
   "metadata": {
    "collapsed": true
   },
   "outputs": [],
   "source": [
    "pa, pb = 2, 4\n",
    "sa, sb = 0, 1\n",
    "step = 1"
   ]
  },
  {
   "cell_type": "code",
   "execution_count": 194,
   "metadata": {},
   "outputs": [],
   "source": [
    "alpha_dist = ProbDist(data[:, [sa, pa]])\n",
    "beta_dist = ProbDist(data[:, [sb, pb]])\n",
    "\n",
    "alpha_dist_log2 = np.log2([float(x) for x in alpha_dist[:, 1]])\n",
    "beta_dist_log2 = np.log2([float(x) for x in beta_dist[:, 1]])\n",
    "\n",
    "alpha_log_stat, min_alpha_log = Statistics(alpha_dist_log2, step)\n",
    "beta_log_stat, min_beta_log = Statistics(beta_dist_log2, step)\n",
    "\n",
    "max_alpha_log = min_alpha_log + alpha_log_stat.shape[0]\n",
    "max_beta_log = min_beta_log + beta_log_stat.shape[0]\n",
    "\n",
    "\n",
    "pair_dist_log2 = np.array([np.log2(data[i, pa]) + np.log2(data[i, pb]) for i in range(data.shape[0])])\n",
    "pair_log_stat, min_pair_log = Statistics(pair_dist_log2, step)\n",
    "max_pair_log = min_pair_log + pair_log_stat.shape[0]\n",
    "\n",
    "\n",
    "min_rpair_log = min_alpha_log + min_beta_log\n",
    "max_rpair_log = max_alpha_log + max_beta_log\n",
    "rpair_log_stat = np.zeros((max_rpair_log - min_rpair_log))\n",
    "for ia, xa in enumerate(alpha_log_stat):\n",
    "    for ib, xb in enumerate(beta_log_stat):\n",
    "        rpair_log_stat[ia + ib] += xa * xb"
   ]
  },
  {
   "cell_type": "code",
   "execution_count": 195,
   "metadata": {
    "scrolled": false
   },
   "outputs": [
    {
     "data": {
      "text/plain": [
       "[<matplotlib.lines.Line2D at 0x27ddbd83048>]"
      ]
     },
     "execution_count": 195,
     "metadata": {},
     "output_type": "execute_result"
    },
    {
     "data": {
      "image/png": "[encoded data removed]",
      "text/plain": [
       "<matplotlib.figure.Figure at 0x27ddbd83160>"
      ]
     },
     "metadata": {},
     "output_type": "display_data"
    }
   ],
   "source": [
    "plt.plot(np.arange(min_pair_log, max_pair_log), pair_log_stat)\n",
    "plt.plot(np.arange(min_rpair_log, max_rpair_log), rpair_log_stat)"
   ]
  },
  {
   "cell_type": "code",
   "execution_count": 203,
   "metadata": {},
   "outputs": [
    {
     "data": {
      "text/plain": [
       "[<matplotlib.lines.Line2D at 0x27ddbe3e860>]"
      ]
     },
     "execution_count": 203,
     "metadata": {},
     "output_type": "execute_result"
    },
    {
     "data": {
      "image/png": "[encoded data removed]",
      "text/plain": [
       "<matplotlib.figure.Figure at 0x27ddbe3e908>"
      ]
     },
     "metadata": {},
     "output_type": "display_data"
    }
   ],
   "source": [
    "x = np.linspace(.5, 3., 100)\n",
    "RE_pair = [RenyiEntropy(pair_log_stat, i) for i in x]\n",
    "RE_rpair = [RenyiEntropy(rpair_log_stat, i) for i in x]\n",
    "plt.plot(x, RE_pair)\n",
    "plt.plot(x, RE_rpair)"
   ]
  },
  {
   "cell_type": "markdown",
   "metadata": {},
   "source": [
    "# gen p 0"
   ]
  },
  {
   "cell_type": "code",
   "execution_count": 204,
   "metadata": {
    "collapsed": true
   },
   "outputs": [],
   "source": [
    "pa, pb = 3, 5\n",
    "sa, sb = 0, 1\n",
    "step = 1"
   ]
  },
  {
   "cell_type": "code",
   "execution_count": 205,
   "metadata": {
    "collapsed": true
   },
   "outputs": [],
   "source": [
    "alpha_dist = ProbDist(data[:, [sa, pa]])\n",
    "beta_dist = ProbDist(data[:, [sb, pb]])\n",
    "\n",
    "alpha_dist_log2 = np.log2([float(x) for x in alpha_dist[:, 1]])\n",
    "beta_dist_log2 = np.log2([float(x) for x in beta_dist[:, 1]])\n",
    "\n",
    "alpha_log_stat, min_alpha_log = Statistics(alpha_dist_log2, step)\n",
    "beta_log_stat, min_beta_log = Statistics(beta_dist_log2, step)\n",
    "\n",
    "max_alpha_log = min_alpha_log + alpha_log_stat.shape[0]\n",
    "max_beta_log = min_beta_log + beta_log_stat.shape[0]\n",
    "\n",
    "\n",
    "pair_dist_log2 = np.array([np.log2(data[i, pa]) + np.log2(data[i, pb]) for i in range(data.shape[0])])\n",
    "pair_log_stat, min_pair_log = Statistics(pair_dist_log2, step)\n",
    "max_pair_log = min_pair_log + pair_log_stat.shape[0]\n",
    "\n",
    "\n",
    "min_rpair_log = min_alpha_log + min_beta_log\n",
    "max_rpair_log = max_alpha_log + max_beta_log\n",
    "rpair_log_stat = np.zeros((max_rpair_log - min_rpair_log))\n",
    "for ia, xa in enumerate(alpha_log_stat):\n",
    "    for ib, xb in enumerate(beta_log_stat):\n",
    "        rpair_log_stat[ia + ib] += xa * xb"
   ]
  },
  {
   "cell_type": "code",
   "execution_count": 206,
   "metadata": {},
   "outputs": [
    {
     "data": {
      "text/plain": [
       "[<matplotlib.lines.Line2D at 0x27ddbddbf28>]"
      ]
     },
     "execution_count": 206,
     "metadata": {},
     "output_type": "execute_result"
    },
    {
     "data": {
      "image/png": "[encoded data removed]",
      "text/plain": [
       "<matplotlib.figure.Figure at 0x27ddbe77828>"
      ]
     },
     "metadata": {},
     "output_type": "display_data"
    }
   ],
   "source": [
    "plt.plot(np.arange(min_pair_log, max_pair_log), pair_log_stat)\n",
    "plt.plot(np.arange(min_rpair_log, max_rpair_log), rpair_log_stat)"
   ]
  },
  {
   "cell_type": "code",
   "execution_count": 207,
   "metadata": {},
   "outputs": [
    {
     "data": {
      "text/plain": [
       "[<matplotlib.lines.Line2D at 0x27ddbe606d8>]"
      ]
     },
     "execution_count": 207,
     "metadata": {},
     "output_type": "execute_result"
    },
    {
     "data": {
      "image/png": "[encoded data removed]",
      "text/plain": [
       "<matplotlib.figure.Figure at 0x27ddbe276d8>"
      ]
     },
     "metadata": {},
     "output_type": "display_data"
    }
   ],
   "source": [
    "x = np.linspace(.5, 3., 100)\n",
    "RE_pair = [RenyiEntropy(pair_log_stat, i) for i in x]\n",
    "RE_rpair = [RenyiEntropy(rpair_log_stat, i) for i in x]\n",
    "plt.plot(x, RE_pair)\n",
    "plt.plot(x, RE_rpair)"
   ]
  },
  {
   "cell_type": "code",
   "execution_count": null,
   "metadata": {
    "collapsed": true
   },
   "outputs": [],
   "source": []
  }
 ],
 "metadata": {
  "kernelspec": {
   "display_name": "Python 3",
   "language": "python",
   "name": "python3"
  },
  "language_info": {
   "codemirror_mode": {
    "name": "ipython",
    "version": 3
   },
   "file_extension": ".py",
   "mimetype": "text/x-python",
   "name": "python",
   "nbconvert_exporter": "python",
   "pygments_lexer": "ipython3",
   "version": "3.6.3"
  }
 },
 "nbformat": 4,
 "nbformat_minor": 2
}
